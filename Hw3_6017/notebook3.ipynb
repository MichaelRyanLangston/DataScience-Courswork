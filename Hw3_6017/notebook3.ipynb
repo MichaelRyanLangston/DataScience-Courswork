{
 "metadata": {
  "language_info": {
   "codemirror_mode": {
    "name": "ipython",
    "version": 3
   },
   "file_extension": ".py",
   "mimetype": "text/x-python",
   "name": "python",
   "nbconvert_exporter": "python",
   "pygments_lexer": "ipython3",
   "version": "3.9.5"
  },
  "orig_nbformat": 2,
  "kernelspec": {
   "name": "python3",
   "display_name": "Python 3.9.5 64-bit"
  },
  "metadata": {
   "interpreter": {
    "hash": "aee8b7b246df8f9039afb4144a1f6fd8d2ca17a180786b69acc140d282b71a49"
   }
  },
  "interpreter": {
   "hash": "aee8b7b246df8f9039afb4144a1f6fd8d2ca17a180786b69acc140d282b71a49"
  }
 },
 "nbformat": 4,
 "nbformat_minor": 2,
 "cells": [
  {
   "source": [
    "# Part 1: Data Acquisition\n"
   ],
   "cell_type": "markdown",
   "metadata": {}
  },
  {
   "cell_type": "code",
   "execution_count": 1,
   "metadata": {},
   "outputs": [
    {
     "output_type": "stream",
     "name": "stdout",
     "text": [
      "Begining HTML Page Extraction...\n",
      "HTML Page Extraction Complete\n"
     ]
    }
   ],
   "source": [
    "from bs4 import BeautifulSoup\n",
    "import urllib.request\n",
    "import time\n",
    "#Time source: https://www.geeksforgeeks.org/how-to-make-a-python-program-wait/\n",
    "\n",
    "#Target Pages\n",
    "# page1 = 'https://news.ycombinator.com/news'\n",
    "# page2 = 'https://news.ycombinator.com/news?p=2'\n",
    "# page3 = 'https://news.ycombinator.com/news?p=3'\n",
    "# page4 = 'https://news.ycombinator.com/news?p=4'\n",
    "# page5 = 'https://news.ycombinator.com/news?p=5'\n",
    "\n",
    "listOfURLs = ['https://news.ycombinator.com/news', 'https://news.ycombinator.com/news?p=2', 'https://news.ycombinator.com/news?p=3', 'https://news.ycombinator.com/news?p=4', 'https://news.ycombinator.com/news?p=5']\n",
    "\n",
    "def extractPages(list):\n",
    "    print('Begining HTML Page Extraction...')\n",
    "    pageNumber = 1\n",
    "    toReturn = []\n",
    "    for website in list:\n",
    "        pageName = 'HackerNews_Page_' + str(pageNumber) + '.html'\n",
    "        with urllib.request.urlopen(website) as response:\n",
    "            htmlResponse = response.read()\n",
    "            htmlResponse = htmlResponse.decode('utf-8')\n",
    "        with open(pageName, 'w') as new_file:\n",
    "            new_file.write(htmlResponse)\n",
    "            new_file.close()\n",
    "        pageNumber += 1\n",
    "        toReturn.append(pageName)\n",
    "        time.sleep(30)\n",
    "    return toReturn\n",
    "\n",
    "\n",
    "extractedFiles = extractPages(listOfURLs)\n",
    "print('HTML Page Extraction Complete')"
   ]
  },
  {
   "cell_type": "code",
   "execution_count": 14,
   "metadata": {
    "tags": []
   },
   "outputs": [
    {
     "output_type": "display_data",
     "data": {
      "text/plain": "                                                 Title  TitleLength  Rank  \\\n0    Few people know that Google voluntarily remove...           67     1   \n1      Finding a CPU Design Bug in the Xbox 360 (2018)           47     2   \n2                            Multicore OCaml: May 2021           25     3   \n3              Reverse Engineering Bumble’s API (2020)           39     4   \n4                                 Containers Are Tents           20     5   \n..                                                 ...          ...   ...   \n145  TC Energy scraps Keystone XL pipeline project ...           76   146   \n146  A robot to replace the need for farmers to go ...           66   147   \n147  What would you pay for autonomous driving? Vol...           74   148   \n148       The brain isn’t supposed to change this much           44   149   \n149  24,000-year-old organisms found frozen in Sibe...           69   150   \n\n      Age  Points  NumComments  \n0     8.0     495          214  \n1     3.0      96           12  \n2     3.0      56            9  \n3     1.0      21            4  \n4     3.0      51           24  \n..    ...     ...          ...  \n145  48.0     309          411  \n146  24.0     180          126  \n147  48.0     215          681  \n148  48.0     193          174  \n149  48.0     201           55  \n\n[150 rows x 6 columns]",
      "text/html": "<div>\n<style scoped>\n    .dataframe tbody tr th:only-of-type {\n        vertical-align: middle;\n    }\n\n    .dataframe tbody tr th {\n        vertical-align: top;\n    }\n\n    .dataframe thead th {\n        text-align: right;\n    }\n</style>\n<table border=\"1\" class=\"dataframe\">\n  <thead>\n    <tr style=\"text-align: right;\">\n      <th></th>\n      <th>Title</th>\n      <th>TitleLength</th>\n      <th>Rank</th>\n      <th>Age</th>\n      <th>Points</th>\n      <th>NumComments</th>\n    </tr>\n  </thead>\n  <tbody>\n    <tr>\n      <th>0</th>\n      <td>Few people know that Google voluntarily remove...</td>\n      <td>67</td>\n      <td>1</td>\n      <td>8.0</td>\n      <td>495</td>\n      <td>214</td>\n    </tr>\n    <tr>\n      <th>1</th>\n      <td>Finding a CPU Design Bug in the Xbox 360 (2018)</td>\n      <td>47</td>\n      <td>2</td>\n      <td>3.0</td>\n      <td>96</td>\n      <td>12</td>\n    </tr>\n    <tr>\n      <th>2</th>\n      <td>Multicore OCaml: May 2021</td>\n      <td>25</td>\n      <td>3</td>\n      <td>3.0</td>\n      <td>56</td>\n      <td>9</td>\n    </tr>\n    <tr>\n      <th>3</th>\n      <td>Reverse Engineering Bumble’s API (2020)</td>\n      <td>39</td>\n      <td>4</td>\n      <td>1.0</td>\n      <td>21</td>\n      <td>4</td>\n    </tr>\n    <tr>\n      <th>4</th>\n      <td>Containers Are Tents</td>\n      <td>20</td>\n      <td>5</td>\n      <td>3.0</td>\n      <td>51</td>\n      <td>24</td>\n    </tr>\n    <tr>\n      <th>...</th>\n      <td>...</td>\n      <td>...</td>\n      <td>...</td>\n      <td>...</td>\n      <td>...</td>\n      <td>...</td>\n    </tr>\n    <tr>\n      <th>145</th>\n      <td>TC Energy scraps Keystone XL pipeline project ...</td>\n      <td>76</td>\n      <td>146</td>\n      <td>48.0</td>\n      <td>309</td>\n      <td>411</td>\n    </tr>\n    <tr>\n      <th>146</th>\n      <td>A robot to replace the need for farmers to go ...</td>\n      <td>66</td>\n      <td>147</td>\n      <td>24.0</td>\n      <td>180</td>\n      <td>126</td>\n    </tr>\n    <tr>\n      <th>147</th>\n      <td>What would you pay for autonomous driving? Vol...</td>\n      <td>74</td>\n      <td>148</td>\n      <td>48.0</td>\n      <td>215</td>\n      <td>681</td>\n    </tr>\n    <tr>\n      <th>148</th>\n      <td>The brain isn’t supposed to change this much</td>\n      <td>44</td>\n      <td>149</td>\n      <td>48.0</td>\n      <td>193</td>\n      <td>174</td>\n    </tr>\n    <tr>\n      <th>149</th>\n      <td>24,000-year-old organisms found frozen in Sibe...</td>\n      <td>69</td>\n      <td>150</td>\n      <td>48.0</td>\n      <td>201</td>\n      <td>55</td>\n    </tr>\n  </tbody>\n</table>\n<p>150 rows × 6 columns</p>\n</div>"
     },
     "metadata": {}
    }
   ],
   "source": [
    "import pandas as pd\n",
    "\n",
    "#source substring in python: freecodecamp.org/news/how-to-substring-a-string-in-python\n",
    "#source pandas stuff: pandas.pydata.org/pandas-docs/stable/refernce/api/pandas.DatFrame.html\n",
    "\n",
    "def makeBeautifulSoup(list):\n",
    "    toReturn = []\n",
    "    for html in list:\n",
    "        ingredients = open(html, 'r+')\n",
    "        toReturn.append(BeautifulSoup(ingredients, 'html.parser'))\n",
    "        ingredients.close()\n",
    "    return toReturn\n",
    "\n",
    "def extractHTMLData(list):\n",
    "    grabTitles = []\n",
    "    grabRank = []\n",
    "    grabAge = []\n",
    "    grabPoints = []\n",
    "    grabCommentNumber = []\n",
    "    for item in list:\n",
    "        for x in [x.get_text() for x in item.select('.title .storylink')]:\n",
    "            grabTitles.append(x)\n",
    "\n",
    "        for x in [int(x.get_text()[:-1]) for x in item.select('.rank')]:\n",
    "            grabRank.append(x)\n",
    "\n",
    "        for x in [x.get_text()[:-4] for x in item.select('.age')]:\n",
    "            if x.__contains__('h'):\n",
    "                splitString = x.split()\n",
    "                grabAge.append(float(splitString[0]))\n",
    "            elif x.__contains__('min'):\n",
    "                splitString = x.split()\n",
    "                grabAge.append(float(splitString[0])/60.0)\n",
    "            elif x.__contains__('d'):\n",
    "                splitString = x.split()\n",
    "                grabAge.append(float(splitString[0]) * 24.0)\n",
    "\n",
    "        for x in [x.get_text() for x in item.select('.subtext')]:\n",
    "            if x.__contains__('points'):\n",
    "                splitString = x.split()\n",
    "                grabPoints.append(int(splitString[0]))\n",
    "            else:\n",
    "                grabPoints.append(0)\n",
    "            if x.__contains__('comment'):\n",
    "                splitString = x.split()\n",
    "                grabCommentNumber.append(int(splitString[-2:-1][0]))\n",
    "            else:\n",
    "                grabCommentNumber.append(0)\n",
    "    grabTitleLength = [len(x) for x in grabTitles]\n",
    "\n",
    "    return pd.DataFrame({'Title' : grabTitles, 'TitleLength' : grabTitleLength, 'Rank' : grabRank, 'Age' : grabAge, 'Points' : grabPoints, 'NumComments' : grabCommentNumber}) \n",
    "\n",
    "\n",
    "cleanedUpData = extractHTMLData(makeBeautifulSoup(extractedFiles))\n",
    "\n",
    "display(cleanedUpData)"
   ]
  },
  {
   "source": [
    "# Part 2: Regression"
   ],
   "cell_type": "markdown",
   "metadata": {}
  },
  {
   "cell_type": "code",
   "execution_count": 25,
   "metadata": {},
   "outputs": [
    {
     "output_type": "execute_result",
     "data": {
      "text/plain": [
       "<class 'statsmodels.iolib.summary.Summary'>\n",
       "\"\"\"\n",
       "                            OLS Regression Results                            \n",
       "==============================================================================\n",
       "Dep. Variable:                   Rank   R-squared:                       0.324\n",
       "Model:                            OLS   Adj. R-squared:                  0.320\n",
       "Method:                 Least Squares   F-statistic:                     70.98\n",
       "Date:                Fri, 11 Jun 2021   Prob (F-statistic):           2.92e-14\n",
       "Time:                        23:15:04   Log-Likelihood:                -748.68\n",
       "No. Observations:                 150   AIC:                             1501.\n",
       "Df Residuals:                     148   BIC:                             1507.\n",
       "Df Model:                           1                                         \n",
       "Covariance Type:            nonrobust                                         \n",
       "==============================================================================\n",
       "                 coef    std err          t      P>|t|      [0.025      0.975]\n",
       "------------------------------------------------------------------------------\n",
       "Intercept     37.9129      5.336      7.106      0.000      27.369      48.456\n",
       "Age            2.1794      0.259      8.425      0.000       1.668       2.691\n",
       "==============================================================================\n",
       "Omnibus:                        7.887   Durbin-Watson:                   0.616\n",
       "Prob(Omnibus):                  0.019   Jarque-Bera (JB):                5.622\n",
       "Skew:                           0.345   Prob(JB):                       0.0601\n",
       "Kurtosis:                       2.349   Cond. No.                         37.7\n",
       "==============================================================================\n",
       "\n",
       "Notes:\n",
       "[1] Standard Errors assume that the covariance matrix of the errors is correctly specified.\n",
       "\"\"\""
      ],
      "text/html": "<table class=\"simpletable\">\n<caption>OLS Regression Results</caption>\n<tr>\n  <th>Dep. Variable:</th>          <td>Rank</td>       <th>  R-squared:         </th> <td>   0.324</td>\n</tr>\n<tr>\n  <th>Model:</th>                   <td>OLS</td>       <th>  Adj. R-squared:    </th> <td>   0.320</td>\n</tr>\n<tr>\n  <th>Method:</th>             <td>Least Squares</td>  <th>  F-statistic:       </th> <td>   70.98</td>\n</tr>\n<tr>\n  <th>Date:</th>             <td>Fri, 11 Jun 2021</td> <th>  Prob (F-statistic):</th> <td>2.92e-14</td>\n</tr>\n<tr>\n  <th>Time:</th>                 <td>23:15:04</td>     <th>  Log-Likelihood:    </th> <td> -748.68</td>\n</tr>\n<tr>\n  <th>No. Observations:</th>      <td>   150</td>      <th>  AIC:               </th> <td>   1501.</td>\n</tr>\n<tr>\n  <th>Df Residuals:</th>          <td>   148</td>      <th>  BIC:               </th> <td>   1507.</td>\n</tr>\n<tr>\n  <th>Df Model:</th>              <td>     1</td>      <th>                     </th>     <td> </td>   \n</tr>\n<tr>\n  <th>Covariance Type:</th>      <td>nonrobust</td>    <th>                     </th>     <td> </td>   \n</tr>\n</table>\n<table class=\"simpletable\">\n<tr>\n      <td></td>         <th>coef</th>     <th>std err</th>      <th>t</th>      <th>P>|t|</th>  <th>[0.025</th>    <th>0.975]</th>  \n</tr>\n<tr>\n  <th>Intercept</th> <td>   37.9129</td> <td>    5.336</td> <td>    7.106</td> <td> 0.000</td> <td>   27.369</td> <td>   48.456</td>\n</tr>\n<tr>\n  <th>Age</th>       <td>    2.1794</td> <td>    0.259</td> <td>    8.425</td> <td> 0.000</td> <td>    1.668</td> <td>    2.691</td>\n</tr>\n</table>\n<table class=\"simpletable\">\n<tr>\n  <th>Omnibus:</th>       <td> 7.887</td> <th>  Durbin-Watson:     </th> <td>   0.616</td>\n</tr>\n<tr>\n  <th>Prob(Omnibus):</th> <td> 0.019</td> <th>  Jarque-Bera (JB):  </th> <td>   5.622</td>\n</tr>\n<tr>\n  <th>Skew:</th>          <td> 0.345</td> <th>  Prob(JB):          </th> <td>  0.0601</td>\n</tr>\n<tr>\n  <th>Kurtosis:</th>      <td> 2.349</td> <th>  Cond. No.          </th> <td>    37.7</td>\n</tr>\n</table><br/><br/>Notes:<br/>[1] Standard Errors assume that the covariance matrix of the errors is correctly specified."
     },
     "metadata": {},
     "execution_count": 25
    }
   ],
   "source": [
    "import statsmodels.formula.api as sm\n",
    "\n",
    "regression1 = sm.ols(formula=\"Rank ~ Age\", data=cleanedUpData).fit()\n",
    "regression1.summary()"
   ]
  },
  {
   "cell_type": "code",
   "execution_count": 22,
   "metadata": {},
   "outputs": [
    {
     "output_type": "execute_result",
     "data": {
      "text/plain": [
       "<class 'statsmodels.iolib.summary.Summary'>\n",
       "\"\"\"\n",
       "                            OLS Regression Results                            \n",
       "==============================================================================\n",
       "Dep. Variable:                   Rank   R-squared:                       0.456\n",
       "Model:                            OLS   Adj. R-squared:                  0.449\n",
       "Method:                 Least Squares   F-statistic:                     61.70\n",
       "Date:                Fri, 11 Jun 2021   Prob (F-statistic):           3.50e-20\n",
       "Time:                        23:12:35   Log-Likelihood:                -732.35\n",
       "No. Observations:                 150   AIC:                             1471.\n",
       "Df Residuals:                     147   BIC:                             1480.\n",
       "Df Model:                           2                                         \n",
       "Covariance Type:            nonrobust                                         \n",
       "==============================================================================\n",
       "                 coef    std err          t      P>|t|      [0.025      0.975]\n",
       "------------------------------------------------------------------------------\n",
       "Intercept     39.1076      4.806      8.138      0.000      29.611      48.604\n",
       "Age            2.9893      0.269     11.099      0.000       2.457       3.522\n",
       "Points        -0.1021      0.017     -5.980      0.000      -0.136      -0.068\n",
       "==============================================================================\n",
       "Omnibus:                        7.840   Durbin-Watson:                   0.869\n",
       "Prob(Omnibus):                  0.020   Jarque-Bera (JB):                6.586\n",
       "Skew:                           0.424   Prob(JB):                       0.0371\n",
       "Kurtosis:                       2.422   Cond. No.                         425.\n",
       "==============================================================================\n",
       "\n",
       "Notes:\n",
       "[1] Standard Errors assume that the covariance matrix of the errors is correctly specified.\n",
       "\"\"\""
      ],
      "text/html": "<table class=\"simpletable\">\n<caption>OLS Regression Results</caption>\n<tr>\n  <th>Dep. Variable:</th>          <td>Rank</td>       <th>  R-squared:         </th> <td>   0.456</td>\n</tr>\n<tr>\n  <th>Model:</th>                   <td>OLS</td>       <th>  Adj. R-squared:    </th> <td>   0.449</td>\n</tr>\n<tr>\n  <th>Method:</th>             <td>Least Squares</td>  <th>  F-statistic:       </th> <td>   61.70</td>\n</tr>\n<tr>\n  <th>Date:</th>             <td>Fri, 11 Jun 2021</td> <th>  Prob (F-statistic):</th> <td>3.50e-20</td>\n</tr>\n<tr>\n  <th>Time:</th>                 <td>23:12:35</td>     <th>  Log-Likelihood:    </th> <td> -732.35</td>\n</tr>\n<tr>\n  <th>No. Observations:</th>      <td>   150</td>      <th>  AIC:               </th> <td>   1471.</td>\n</tr>\n<tr>\n  <th>Df Residuals:</th>          <td>   147</td>      <th>  BIC:               </th> <td>   1480.</td>\n</tr>\n<tr>\n  <th>Df Model:</th>              <td>     2</td>      <th>                     </th>     <td> </td>   \n</tr>\n<tr>\n  <th>Covariance Type:</th>      <td>nonrobust</td>    <th>                     </th>     <td> </td>   \n</tr>\n</table>\n<table class=\"simpletable\">\n<tr>\n      <td></td>         <th>coef</th>     <th>std err</th>      <th>t</th>      <th>P>|t|</th>  <th>[0.025</th>    <th>0.975]</th>  \n</tr>\n<tr>\n  <th>Intercept</th> <td>   39.1076</td> <td>    4.806</td> <td>    8.138</td> <td> 0.000</td> <td>   29.611</td> <td>   48.604</td>\n</tr>\n<tr>\n  <th>Age</th>       <td>    2.9893</td> <td>    0.269</td> <td>   11.099</td> <td> 0.000</td> <td>    2.457</td> <td>    3.522</td>\n</tr>\n<tr>\n  <th>Points</th>    <td>   -0.1021</td> <td>    0.017</td> <td>   -5.980</td> <td> 0.000</td> <td>   -0.136</td> <td>   -0.068</td>\n</tr>\n</table>\n<table class=\"simpletable\">\n<tr>\n  <th>Omnibus:</th>       <td> 7.840</td> <th>  Durbin-Watson:     </th> <td>   0.869</td>\n</tr>\n<tr>\n  <th>Prob(Omnibus):</th> <td> 0.020</td> <th>  Jarque-Bera (JB):  </th> <td>   6.586</td>\n</tr>\n<tr>\n  <th>Skew:</th>          <td> 0.424</td> <th>  Prob(JB):          </th> <td>  0.0371</td>\n</tr>\n<tr>\n  <th>Kurtosis:</th>      <td> 2.422</td> <th>  Cond. No.          </th> <td>    425.</td>\n</tr>\n</table><br/><br/>Notes:<br/>[1] Standard Errors assume that the covariance matrix of the errors is correctly specified."
     },
     "metadata": {},
     "execution_count": 22
    }
   ],
   "source": [
    "regression2 = sm.ols(formula=\"Rank ~ Age + Points\", data=cleanedUpData).fit()\n",
    "regression2.summary()"
   ]
  },
  {
   "cell_type": "code",
   "execution_count": 20,
   "metadata": {},
   "outputs": [
    {
     "output_type": "execute_result",
     "data": {
      "text/plain": [
       "<class 'statsmodels.iolib.summary.Summary'>\n",
       "\"\"\"\n",
       "                            OLS Regression Results                            \n",
       "==============================================================================\n",
       "Dep. Variable:                   Rank   R-squared:                       0.371\n",
       "Model:                            OLS   Adj. R-squared:                  0.362\n",
       "Method:                 Least Squares   F-statistic:                     43.30\n",
       "Date:                Fri, 11 Jun 2021   Prob (F-statistic):           1.64e-15\n",
       "Time:                        23:12:13   Log-Likelihood:                -743.33\n",
       "No. Observations:                 150   AIC:                             1493.\n",
       "Df Residuals:                     147   BIC:                             1502.\n",
       "Df Model:                           2                                         \n",
       "Covariance Type:            nonrobust                                         \n",
       "===============================================================================\n",
       "                  coef    std err          t      P>|t|      [0.025      0.975]\n",
       "-------------------------------------------------------------------------------\n",
       "Intercept      37.2948      5.169      7.215      0.000      27.079      47.510\n",
       "Age             2.6792      0.293      9.153      0.000       2.101       3.258\n",
       "NumComments    -0.0840      0.025     -3.299      0.001      -0.134      -0.034\n",
       "==============================================================================\n",
       "Omnibus:                        9.680   Durbin-Watson:                   0.669\n",
       "Prob(Omnibus):                  0.008   Jarque-Bera (JB):                6.477\n",
       "Skew:                           0.369   Prob(JB):                       0.0392\n",
       "Kurtosis:                       2.298   Cond. No.                         296.\n",
       "==============================================================================\n",
       "\n",
       "Notes:\n",
       "[1] Standard Errors assume that the covariance matrix of the errors is correctly specified.\n",
       "\"\"\""
      ],
      "text/html": "<table class=\"simpletable\">\n<caption>OLS Regression Results</caption>\n<tr>\n  <th>Dep. Variable:</th>          <td>Rank</td>       <th>  R-squared:         </th> <td>   0.371</td>\n</tr>\n<tr>\n  <th>Model:</th>                   <td>OLS</td>       <th>  Adj. R-squared:    </th> <td>   0.362</td>\n</tr>\n<tr>\n  <th>Method:</th>             <td>Least Squares</td>  <th>  F-statistic:       </th> <td>   43.30</td>\n</tr>\n<tr>\n  <th>Date:</th>             <td>Fri, 11 Jun 2021</td> <th>  Prob (F-statistic):</th> <td>1.64e-15</td>\n</tr>\n<tr>\n  <th>Time:</th>                 <td>23:12:13</td>     <th>  Log-Likelihood:    </th> <td> -743.33</td>\n</tr>\n<tr>\n  <th>No. Observations:</th>      <td>   150</td>      <th>  AIC:               </th> <td>   1493.</td>\n</tr>\n<tr>\n  <th>Df Residuals:</th>          <td>   147</td>      <th>  BIC:               </th> <td>   1502.</td>\n</tr>\n<tr>\n  <th>Df Model:</th>              <td>     2</td>      <th>                     </th>     <td> </td>   \n</tr>\n<tr>\n  <th>Covariance Type:</th>      <td>nonrobust</td>    <th>                     </th>     <td> </td>   \n</tr>\n</table>\n<table class=\"simpletable\">\n<tr>\n       <td></td>          <th>coef</th>     <th>std err</th>      <th>t</th>      <th>P>|t|</th>  <th>[0.025</th>    <th>0.975]</th>  \n</tr>\n<tr>\n  <th>Intercept</th>   <td>   37.2948</td> <td>    5.169</td> <td>    7.215</td> <td> 0.000</td> <td>   27.079</td> <td>   47.510</td>\n</tr>\n<tr>\n  <th>Age</th>         <td>    2.6792</td> <td>    0.293</td> <td>    9.153</td> <td> 0.000</td> <td>    2.101</td> <td>    3.258</td>\n</tr>\n<tr>\n  <th>NumComments</th> <td>   -0.0840</td> <td>    0.025</td> <td>   -3.299</td> <td> 0.001</td> <td>   -0.134</td> <td>   -0.034</td>\n</tr>\n</table>\n<table class=\"simpletable\">\n<tr>\n  <th>Omnibus:</th>       <td> 9.680</td> <th>  Durbin-Watson:     </th> <td>   0.669</td>\n</tr>\n<tr>\n  <th>Prob(Omnibus):</th> <td> 0.008</td> <th>  Jarque-Bera (JB):  </th> <td>   6.477</td>\n</tr>\n<tr>\n  <th>Skew:</th>          <td> 0.369</td> <th>  Prob(JB):          </th> <td>  0.0392</td>\n</tr>\n<tr>\n  <th>Kurtosis:</th>      <td> 2.298</td> <th>  Cond. No.          </th> <td>    296.</td>\n</tr>\n</table><br/><br/>Notes:<br/>[1] Standard Errors assume that the covariance matrix of the errors is correctly specified."
     },
     "metadata": {},
     "execution_count": 20
    }
   ],
   "source": [
    "regression3 = sm.ols(formula=\"Rank ~ Age + NumComments\", data=cleanedUpData).fit()\n",
    "regression3.summary()"
   ]
  },
  {
   "cell_type": "code",
   "execution_count": 23,
   "metadata": {},
   "outputs": [
    {
     "output_type": "execute_result",
     "data": {
      "text/plain": [
       "<class 'statsmodels.iolib.summary.Summary'>\n",
       "\"\"\"\n",
       "                            OLS Regression Results                            \n",
       "==============================================================================\n",
       "Dep. Variable:                   Rank   R-squared:                       0.457\n",
       "Model:                            OLS   Adj. R-squared:                  0.446\n",
       "Method:                 Least Squares   F-statistic:                     40.99\n",
       "Date:                Fri, 11 Jun 2021   Prob (F-statistic):           2.82e-19\n",
       "Time:                        23:13:13   Log-Likelihood:                -732.24\n",
       "No. Observations:                 150   AIC:                             1472.\n",
       "Df Residuals:                     146   BIC:                             1485.\n",
       "Df Model:                           3                                         \n",
       "Covariance Type:            nonrobust                                         \n",
       "===============================================================================\n",
       "                  coef    std err          t      P>|t|      [0.025      0.975]\n",
       "-------------------------------------------------------------------------------\n",
       "Intercept      38.9552      4.830      8.066      0.000      29.410      48.500\n",
       "Age             3.0271      0.282     10.728      0.000       2.469       3.585\n",
       "NumComments    -0.0129      0.028     -0.462      0.645      -0.068       0.042\n",
       "Points         -0.0972      0.020     -4.822      0.000      -0.137      -0.057\n",
       "==============================================================================\n",
       "Omnibus:                        7.537   Durbin-Watson:                   0.865\n",
       "Prob(Omnibus):                  0.023   Jarque-Bera (JB):                6.408\n",
       "Skew:                           0.420   Prob(JB):                       0.0406\n",
       "Kurtosis:                       2.434   Cond. No.                         493.\n",
       "==============================================================================\n",
       "\n",
       "Notes:\n",
       "[1] Standard Errors assume that the covariance matrix of the errors is correctly specified.\n",
       "\"\"\""
      ],
      "text/html": "<table class=\"simpletable\">\n<caption>OLS Regression Results</caption>\n<tr>\n  <th>Dep. Variable:</th>          <td>Rank</td>       <th>  R-squared:         </th> <td>   0.457</td>\n</tr>\n<tr>\n  <th>Model:</th>                   <td>OLS</td>       <th>  Adj. R-squared:    </th> <td>   0.446</td>\n</tr>\n<tr>\n  <th>Method:</th>             <td>Least Squares</td>  <th>  F-statistic:       </th> <td>   40.99</td>\n</tr>\n<tr>\n  <th>Date:</th>             <td>Fri, 11 Jun 2021</td> <th>  Prob (F-statistic):</th> <td>2.82e-19</td>\n</tr>\n<tr>\n  <th>Time:</th>                 <td>23:13:13</td>     <th>  Log-Likelihood:    </th> <td> -732.24</td>\n</tr>\n<tr>\n  <th>No. Observations:</th>      <td>   150</td>      <th>  AIC:               </th> <td>   1472.</td>\n</tr>\n<tr>\n  <th>Df Residuals:</th>          <td>   146</td>      <th>  BIC:               </th> <td>   1485.</td>\n</tr>\n<tr>\n  <th>Df Model:</th>              <td>     3</td>      <th>                     </th>     <td> </td>   \n</tr>\n<tr>\n  <th>Covariance Type:</th>      <td>nonrobust</td>    <th>                     </th>     <td> </td>   \n</tr>\n</table>\n<table class=\"simpletable\">\n<tr>\n       <td></td>          <th>coef</th>     <th>std err</th>      <th>t</th>      <th>P>|t|</th>  <th>[0.025</th>    <th>0.975]</th>  \n</tr>\n<tr>\n  <th>Intercept</th>   <td>   38.9552</td> <td>    4.830</td> <td>    8.066</td> <td> 0.000</td> <td>   29.410</td> <td>   48.500</td>\n</tr>\n<tr>\n  <th>Age</th>         <td>    3.0271</td> <td>    0.282</td> <td>   10.728</td> <td> 0.000</td> <td>    2.469</td> <td>    3.585</td>\n</tr>\n<tr>\n  <th>NumComments</th> <td>   -0.0129</td> <td>    0.028</td> <td>   -0.462</td> <td> 0.645</td> <td>   -0.068</td> <td>    0.042</td>\n</tr>\n<tr>\n  <th>Points</th>      <td>   -0.0972</td> <td>    0.020</td> <td>   -4.822</td> <td> 0.000</td> <td>   -0.137</td> <td>   -0.057</td>\n</tr>\n</table>\n<table class=\"simpletable\">\n<tr>\n  <th>Omnibus:</th>       <td> 7.537</td> <th>  Durbin-Watson:     </th> <td>   0.865</td>\n</tr>\n<tr>\n  <th>Prob(Omnibus):</th> <td> 0.023</td> <th>  Jarque-Bera (JB):  </th> <td>   6.408</td>\n</tr>\n<tr>\n  <th>Skew:</th>          <td> 0.420</td> <th>  Prob(JB):          </th> <td>  0.0406</td>\n</tr>\n<tr>\n  <th>Kurtosis:</th>      <td> 2.434</td> <th>  Cond. No.          </th> <td>    493.</td>\n</tr>\n</table><br/><br/>Notes:<br/>[1] Standard Errors assume that the covariance matrix of the errors is correctly specified."
     },
     "metadata": {},
     "execution_count": 23
    }
   ],
   "source": [
    "regression3 = sm.ols(formula=\"Rank ~ Age + NumComments + Points\", data=cleanedUpData).fit()\n",
    "regression3.summary()"
   ]
  },
  {
   "source": [
    "## From the above the best prediction appears to come from age and points with an r^2 of 0.456. Since the coeffcient for points is negative, this seems to indicate that the articles with lower points tend to become higher ranked and the older the article is the higher the rank.\n"
   ],
   "cell_type": "markdown",
   "metadata": {}
  },
  {
   "source": [
    "# Part 3\n"
   ],
   "cell_type": "markdown",
   "metadata": {}
  },
  {
   "cell_type": "code",
   "execution_count": 47,
   "metadata": {},
   "outputs": [],
   "source": [
    "frontPage = [1 for x in cleanedUpData['Rank'] if x <= 30]\n",
    "notFrontPage = [0 for x in cleanedUpData['Rank'] if x > 30]\n",
    "for x in notFrontPage:\n",
    "    frontPage.append(x)\n",
    "cleanedUpData.insert(loc=0, value=frontPage, column='FrontPage')"
   ]
  },
  {
   "cell_type": "code",
   "execution_count": 46,
   "metadata": {},
   "outputs": [
    {
     "output_type": "display_data",
     "data": {
      "text/plain": "     FrontPage                                              Title  \\\n0            1  Few people know that Google voluntarily remove...   \n1            1    Finding a CPU Design Bug in the Xbox 360 (2018)   \n2            1                          Multicore OCaml: May 2021   \n3            1            Reverse Engineering Bumble’s API (2020)   \n4            1                               Containers Are Tents   \n..         ...                                                ...   \n145          0  TC Energy scraps Keystone XL pipeline project ...   \n146          0  A robot to replace the need for farmers to go ...   \n147          0  What would you pay for autonomous driving? Vol...   \n148          0       The brain isn’t supposed to change this much   \n149          0  24,000-year-old organisms found frozen in Sibe...   \n\n     TitleLength  Rank   Age  Points  NumComments  \n0             67     1   8.0     495          214  \n1             47     2   3.0      96           12  \n2             25     3   3.0      56            9  \n3             39     4   1.0      21            4  \n4             20     5   3.0      51           24  \n..           ...   ...   ...     ...          ...  \n145           76   146  48.0     309          411  \n146           66   147  24.0     180          126  \n147           74   148  48.0     215          681  \n148           44   149  48.0     193          174  \n149           69   150  48.0     201           55  \n\n[150 rows x 7 columns]",
      "text/html": "<div>\n<style scoped>\n    .dataframe tbody tr th:only-of-type {\n        vertical-align: middle;\n    }\n\n    .dataframe tbody tr th {\n        vertical-align: top;\n    }\n\n    .dataframe thead th {\n        text-align: right;\n    }\n</style>\n<table border=\"1\" class=\"dataframe\">\n  <thead>\n    <tr style=\"text-align: right;\">\n      <th></th>\n      <th>FrontPage</th>\n      <th>Title</th>\n      <th>TitleLength</th>\n      <th>Rank</th>\n      <th>Age</th>\n      <th>Points</th>\n      <th>NumComments</th>\n    </tr>\n  </thead>\n  <tbody>\n    <tr>\n      <th>0</th>\n      <td>1</td>\n      <td>Few people know that Google voluntarily remove...</td>\n      <td>67</td>\n      <td>1</td>\n      <td>8.0</td>\n      <td>495</td>\n      <td>214</td>\n    </tr>\n    <tr>\n      <th>1</th>\n      <td>1</td>\n      <td>Finding a CPU Design Bug in the Xbox 360 (2018)</td>\n      <td>47</td>\n      <td>2</td>\n      <td>3.0</td>\n      <td>96</td>\n      <td>12</td>\n    </tr>\n    <tr>\n      <th>2</th>\n      <td>1</td>\n      <td>Multicore OCaml: May 2021</td>\n      <td>25</td>\n      <td>3</td>\n      <td>3.0</td>\n      <td>56</td>\n      <td>9</td>\n    </tr>\n    <tr>\n      <th>3</th>\n      <td>1</td>\n      <td>Reverse Engineering Bumble’s API (2020)</td>\n      <td>39</td>\n      <td>4</td>\n      <td>1.0</td>\n      <td>21</td>\n      <td>4</td>\n    </tr>\n    <tr>\n      <th>4</th>\n      <td>1</td>\n      <td>Containers Are Tents</td>\n      <td>20</td>\n      <td>5</td>\n      <td>3.0</td>\n      <td>51</td>\n      <td>24</td>\n    </tr>\n    <tr>\n      <th>...</th>\n      <td>...</td>\n      <td>...</td>\n      <td>...</td>\n      <td>...</td>\n      <td>...</td>\n      <td>...</td>\n      <td>...</td>\n    </tr>\n    <tr>\n      <th>145</th>\n      <td>0</td>\n      <td>TC Energy scraps Keystone XL pipeline project ...</td>\n      <td>76</td>\n      <td>146</td>\n      <td>48.0</td>\n      <td>309</td>\n      <td>411</td>\n    </tr>\n    <tr>\n      <th>146</th>\n      <td>0</td>\n      <td>A robot to replace the need for farmers to go ...</td>\n      <td>66</td>\n      <td>147</td>\n      <td>24.0</td>\n      <td>180</td>\n      <td>126</td>\n    </tr>\n    <tr>\n      <th>147</th>\n      <td>0</td>\n      <td>What would you pay for autonomous driving? Vol...</td>\n      <td>74</td>\n      <td>148</td>\n      <td>48.0</td>\n      <td>215</td>\n      <td>681</td>\n    </tr>\n    <tr>\n      <th>148</th>\n      <td>0</td>\n      <td>The brain isn’t supposed to change this much</td>\n      <td>44</td>\n      <td>149</td>\n      <td>48.0</td>\n      <td>193</td>\n      <td>174</td>\n    </tr>\n    <tr>\n      <th>149</th>\n      <td>0</td>\n      <td>24,000-year-old organisms found frozen in Sibe...</td>\n      <td>69</td>\n      <td>150</td>\n      <td>48.0</td>\n      <td>201</td>\n      <td>55</td>\n    </tr>\n  </tbody>\n</table>\n<p>150 rows × 7 columns</p>\n</div>"
     },
     "metadata": {}
    }
   ],
   "source": [
    "display(cleanedUpData)"
   ]
  },
  {
   "cell_type": "code",
   "execution_count": 62,
   "metadata": {},
   "outputs": [
    {
     "output_type": "stream",
     "name": "stdout",
     "text": [
      "Optimization terminated successfully.\n         Current function value: 0.278007\n         Iterations 8\n"
     ]
    },
    {
     "output_type": "execute_result",
     "data": {
      "text/plain": [
       "<class 'statsmodels.iolib.summary.Summary'>\n",
       "\"\"\"\n",
       "                           Logit Regression Results                           \n",
       "==============================================================================\n",
       "Dep. Variable:              FrontPage   No. Observations:                  150\n",
       "Model:                          Logit   Df Residuals:                      147\n",
       "Method:                           MLE   Df Model:                            2\n",
       "Date:                Fri, 11 Jun 2021   Pseudo R-squ.:                  0.4444\n",
       "Time:                        23:49:24   Log-Likelihood:                -41.701\n",
       "converged:                       True   LL-Null:                       -75.060\n",
       "Covariance Type:            nonrobust   LLR p-value:                 3.253e-15\n",
       "==============================================================================\n",
       "                 coef    std err          z      P>|z|      [0.025      0.975]\n",
       "------------------------------------------------------------------------------\n",
       "Intercept      1.7634      0.566      3.114      0.002       0.653       2.873\n",
       "Age           -0.3748      0.073     -5.120      0.000      -0.518      -0.231\n",
       "Points         0.0088      0.002      3.979      0.000       0.004       0.013\n",
       "==============================================================================\n",
       "\"\"\""
      ],
      "text/html": "<table class=\"simpletable\">\n<caption>Logit Regression Results</caption>\n<tr>\n  <th>Dep. Variable:</th>       <td>FrontPage</td>    <th>  No. Observations:  </th>  <td>   150</td>  \n</tr>\n<tr>\n  <th>Model:</th>                 <td>Logit</td>      <th>  Df Residuals:      </th>  <td>   147</td>  \n</tr>\n<tr>\n  <th>Method:</th>                 <td>MLE</td>       <th>  Df Model:          </th>  <td>     2</td>  \n</tr>\n<tr>\n  <th>Date:</th>            <td>Fri, 11 Jun 2021</td> <th>  Pseudo R-squ.:     </th>  <td>0.4444</td>  \n</tr>\n<tr>\n  <th>Time:</th>                <td>23:49:24</td>     <th>  Log-Likelihood:    </th> <td> -41.701</td> \n</tr>\n<tr>\n  <th>converged:</th>             <td>True</td>       <th>  LL-Null:           </th> <td> -75.060</td> \n</tr>\n<tr>\n  <th>Covariance Type:</th>     <td>nonrobust</td>    <th>  LLR p-value:       </th> <td>3.253e-15</td>\n</tr>\n</table>\n<table class=\"simpletable\">\n<tr>\n      <td></td>         <th>coef</th>     <th>std err</th>      <th>z</th>      <th>P>|z|</th>  <th>[0.025</th>    <th>0.975]</th>  \n</tr>\n<tr>\n  <th>Intercept</th> <td>    1.7634</td> <td>    0.566</td> <td>    3.114</td> <td> 0.002</td> <td>    0.653</td> <td>    2.873</td>\n</tr>\n<tr>\n  <th>Age</th>       <td>   -0.3748</td> <td>    0.073</td> <td>   -5.120</td> <td> 0.000</td> <td>   -0.518</td> <td>   -0.231</td>\n</tr>\n<tr>\n  <th>Points</th>    <td>    0.0088</td> <td>    0.002</td> <td>    3.979</td> <td> 0.000</td> <td>    0.004</td> <td>    0.013</td>\n</tr>\n</table>"
     },
     "metadata": {},
     "execution_count": 62
    }
   ],
   "source": [
    "front_Page_made = sm.logit(formula='FrontPage ~ Age + Points', data=cleanedUpData).fit()\n",
    "front_Page_made.summary()"
   ]
  },
  {
   "cell_type": "code",
   "execution_count": 67,
   "metadata": {},
   "outputs": [
    {
     "output_type": "stream",
     "name": "stdout",
     "text": [
      "Optimization terminated successfully.\n         Current function value: 0.346516\n         Iterations 8\n"
     ]
    },
    {
     "output_type": "execute_result",
     "data": {
      "text/plain": [
       "<class 'statsmodels.iolib.summary.Summary'>\n",
       "\"\"\"\n",
       "                           Logit Regression Results                           \n",
       "==============================================================================\n",
       "Dep. Variable:              FrontPage   No. Observations:                  150\n",
       "Model:                          Logit   Df Residuals:                      148\n",
       "Method:                           MLE   Df Model:                            1\n",
       "Date:                Sat, 12 Jun 2021   Pseudo R-squ.:                  0.3075\n",
       "Time:                        00:06:44   Log-Likelihood:                -51.977\n",
       "converged:                       True   LL-Null:                       -75.060\n",
       "Covariance Type:            nonrobust   LLR p-value:                 1.086e-11\n",
       "==============================================================================\n",
       "                 coef    std err          z      P>|z|      [0.025      0.975]\n",
       "------------------------------------------------------------------------------\n",
       "Intercept      1.3098      0.484      2.704      0.007       0.360       2.259\n",
       "Age           -0.2231      0.045     -4.950      0.000      -0.311      -0.135\n",
       "==============================================================================\n",
       "\"\"\""
      ],
      "text/html": "<table class=\"simpletable\">\n<caption>Logit Regression Results</caption>\n<tr>\n  <th>Dep. Variable:</th>       <td>FrontPage</td>    <th>  No. Observations:  </th>  <td>   150</td>  \n</tr>\n<tr>\n  <th>Model:</th>                 <td>Logit</td>      <th>  Df Residuals:      </th>  <td>   148</td>  \n</tr>\n<tr>\n  <th>Method:</th>                 <td>MLE</td>       <th>  Df Model:          </th>  <td>     1</td>  \n</tr>\n<tr>\n  <th>Date:</th>            <td>Sat, 12 Jun 2021</td> <th>  Pseudo R-squ.:     </th>  <td>0.3075</td>  \n</tr>\n<tr>\n  <th>Time:</th>                <td>00:06:44</td>     <th>  Log-Likelihood:    </th> <td> -51.977</td> \n</tr>\n<tr>\n  <th>converged:</th>             <td>True</td>       <th>  LL-Null:           </th> <td> -75.060</td> \n</tr>\n<tr>\n  <th>Covariance Type:</th>     <td>nonrobust</td>    <th>  LLR p-value:       </th> <td>1.086e-11</td>\n</tr>\n</table>\n<table class=\"simpletable\">\n<tr>\n      <td></td>         <th>coef</th>     <th>std err</th>      <th>z</th>      <th>P>|z|</th>  <th>[0.025</th>    <th>0.975]</th>  \n</tr>\n<tr>\n  <th>Intercept</th> <td>    1.3098</td> <td>    0.484</td> <td>    2.704</td> <td> 0.007</td> <td>    0.360</td> <td>    2.259</td>\n</tr>\n<tr>\n  <th>Age</th>       <td>   -0.2231</td> <td>    0.045</td> <td>   -4.950</td> <td> 0.000</td> <td>   -0.311</td> <td>   -0.135</td>\n</tr>\n</table>"
     },
     "metadata": {},
     "execution_count": 67
    }
   ],
   "source": [
    "front_Page_made = sm.logit(formula='FrontPage ~ Age', data=cleanedUpData).fit()\n",
    "front_Page_made.summary()"
   ]
  },
  {
   "cell_type": "code",
   "execution_count": 66,
   "metadata": {},
   "outputs": [
    {
     "output_type": "execute_result",
     "data": {
      "text/plain": [
       "Text(0.5, 1.0, 'Age Predicting appearance on Front Page')"
      ]
     },
     "metadata": {},
     "execution_count": 66
    },
    {
     "output_type": "display_data",
     "data": {
      "text/plain": "<Figure size 432x288 with 1 Axes>",
      "image/svg+xml": "<?xml version=\"1.0\" encoding=\"utf-8\" standalone=\"no\"?>\n<!DOCTYPE svg PUBLIC \"-//W3C//DTD SVG 1.1//EN\"\n  \"http://www.w3.org/Graphics/SVG/1.1/DTD/svg11.dtd\">\n<svg height=\"277.314375pt\" version=\"1.1\" viewBox=\"0 0 389.877212 277.314375\" width=\"389.877212pt\" xmlns=\"http://www.w3.org/2000/svg\" xmlns:xlink=\"http://www.w3.org/1999/xlink\">\n <metadata>\n  <rdf:RDF xmlns:cc=\"http://creativecommons.org/ns#\" xmlns:dc=\"http://purl.org/dc/elements/1.1/\" xmlns:rdf=\"http://www.w3.org/1999/02/22-rdf-syntax-ns#\">\n   <cc:Work>\n    <dc:type rdf:resource=\"http://purl.org/dc/dcmitype/StillImage\"/>\n    <dc:date>2021-06-12T00:06:09.483780</dc:date>\n    <dc:format>image/svg+xml</dc:format>\n    <dc:creator>\n     <cc:Agent>\n      <dc:title>Matplotlib v3.4.2, https://matplotlib.org/</dc:title>\n     </cc:Agent>\n    </dc:creator>\n   </cc:Work>\n  </rdf:RDF>\n </metadata>\n <defs>\n  <style type=\"text/css\">*{stroke-linecap:butt;stroke-linejoin:round;}</style>\n </defs>\n <g id=\"figure_1\">\n  <g id=\"patch_1\">\n   <path d=\"M 0 277.314375 \nL 389.877212 277.314375 \nL 389.877212 0 \nL 0 0 \nz\n\" style=\"fill:none;\"/>\n  </g>\n  <g id=\"axes_1\">\n   <g id=\"patch_2\">\n    <path d=\"M 43.78125 239.758125 \nL 378.58125 239.758125 \nL 378.58125 22.318125 \nL 43.78125 22.318125 \nz\n\" style=\"fill:#ffffff;\"/>\n   </g>\n   <g id=\"PathCollection_1\">\n    <defs>\n     <path d=\"M 0 2.236068 \nC 0.593012 2.236068 1.161816 2.000462 1.581139 1.581139 \nC 2.000462 1.161816 2.236068 0.593012 2.236068 0 \nC 2.236068 -0.593012 2.000462 -1.161816 1.581139 -1.581139 \nC 1.161816 -2.000462 0.593012 -2.236068 0 -2.236068 \nC -0.593012 -2.236068 -1.161816 -2.000462 -1.581139 -1.581139 \nC -2.000462 -1.161816 -2.236068 -0.593012 -2.236068 0 \nC -2.236068 0.593012 -2.000462 1.161816 -1.581139 1.581139 \nC -1.161816 2.000462 -0.593012 2.236068 0 2.236068 \nz\n\" id=\"m66809e079a\" style=\"stroke:#1f77b4;\"/>\n    </defs>\n    <g clip-path=\"url(#p22b52adbf8)\">\n     <use style=\"fill:#1f77b4;stroke:#1f77b4;\" x=\"104.330186\" xlink:href=\"#m66809e079a\" y=\"32.201761\"/>\n     <use style=\"fill:#1f77b4;stroke:#1f77b4;\" x=\"71.951076\" xlink:href=\"#m66809e079a\" y=\"32.201761\"/>\n     <use style=\"fill:#1f77b4;stroke:#1f77b4;\" x=\"71.951076\" xlink:href=\"#m66809e079a\" y=\"32.201761\"/>\n     <use style=\"fill:#1f77b4;stroke:#1f77b4;\" x=\"58.999432\" xlink:href=\"#m66809e079a\" y=\"32.201761\"/>\n     <use style=\"fill:#1f77b4;stroke:#1f77b4;\" x=\"71.951076\" xlink:href=\"#m66809e079a\" y=\"32.201761\"/>\n     <use style=\"fill:#1f77b4;stroke:#1f77b4;\" x=\"104.330186\" xlink:href=\"#m66809e079a\" y=\"32.201761\"/>\n     <use style=\"fill:#1f77b4;stroke:#1f77b4;\" x=\"84.90272\" xlink:href=\"#m66809e079a\" y=\"32.201761\"/>\n     <use style=\"fill:#1f77b4;stroke:#1f77b4;\" x=\"58.999432\" xlink:href=\"#m66809e079a\" y=\"32.201761\"/>\n     <use style=\"fill:#1f77b4;stroke:#1f77b4;\" x=\"84.90272\" xlink:href=\"#m66809e079a\" y=\"32.201761\"/>\n     <use style=\"fill:#1f77b4;stroke:#1f77b4;\" x=\"143.185118\" xlink:href=\"#m66809e079a\" y=\"32.201761\"/>\n     <use style=\"fill:#1f77b4;stroke:#1f77b4;\" x=\"71.951076\" xlink:href=\"#m66809e079a\" y=\"32.201761\"/>\n     <use style=\"fill:#1f77b4;stroke:#1f77b4;\" x=\"130.233474\" xlink:href=\"#m66809e079a\" y=\"32.201761\"/>\n     <use style=\"fill:#1f77b4;stroke:#1f77b4;\" x=\"91.378542\" xlink:href=\"#m66809e079a\" y=\"32.201761\"/>\n     <use style=\"fill:#1f77b4;stroke:#1f77b4;\" x=\"149.660941\" xlink:href=\"#m66809e079a\" y=\"32.201761\"/>\n     <use style=\"fill:#1f77b4;stroke:#1f77b4;\" x=\"143.185118\" xlink:href=\"#m66809e079a\" y=\"32.201761\"/>\n     <use style=\"fill:#1f77b4;stroke:#1f77b4;\" x=\"84.90272\" xlink:href=\"#m66809e079a\" y=\"32.201761\"/>\n     <use style=\"fill:#1f77b4;stroke:#1f77b4;\" x=\"130.233474\" xlink:href=\"#m66809e079a\" y=\"32.201761\"/>\n     <use style=\"fill:#1f77b4;stroke:#1f77b4;\" x=\"117.28183\" xlink:href=\"#m66809e079a\" y=\"32.201761\"/>\n     <use style=\"fill:#1f77b4;stroke:#1f77b4;\" x=\"97.854364\" xlink:href=\"#m66809e079a\" y=\"32.201761\"/>\n     <use style=\"fill:#1f77b4;stroke:#1f77b4;\" x=\"97.854364\" xlink:href=\"#m66809e079a\" y=\"32.201761\"/>\n     <use style=\"fill:#1f77b4;stroke:#1f77b4;\" x=\"130.233474\" xlink:href=\"#m66809e079a\" y=\"32.201761\"/>\n     <use style=\"fill:#1f77b4;stroke:#1f77b4;\" x=\"104.330186\" xlink:href=\"#m66809e079a\" y=\"32.201761\"/>\n     <use style=\"fill:#1f77b4;stroke:#1f77b4;\" x=\"156.136763\" xlink:href=\"#m66809e079a\" y=\"32.201761\"/>\n     <use style=\"fill:#1f77b4;stroke:#1f77b4;\" x=\"97.854364\" xlink:href=\"#m66809e079a\" y=\"32.201761\"/>\n     <use style=\"fill:#1f77b4;stroke:#1f77b4;\" x=\"71.951076\" xlink:href=\"#m66809e079a\" y=\"32.201761\"/>\n     <use style=\"fill:#1f77b4;stroke:#1f77b4;\" x=\"97.854364\" xlink:href=\"#m66809e079a\" y=\"32.201761\"/>\n     <use style=\"fill:#1f77b4;stroke:#1f77b4;\" x=\"78.426898\" xlink:href=\"#m66809e079a\" y=\"32.201761\"/>\n     <use style=\"fill:#1f77b4;stroke:#1f77b4;\" x=\"84.90272\" xlink:href=\"#m66809e079a\" y=\"32.201761\"/>\n     <use style=\"fill:#1f77b4;stroke:#1f77b4;\" x=\"84.90272\" xlink:href=\"#m66809e079a\" y=\"32.201761\"/>\n     <use style=\"fill:#1f77b4;stroke:#1f77b4;\" x=\"149.660941\" xlink:href=\"#m66809e079a\" y=\"32.201761\"/>\n     <use style=\"fill:#1f77b4;stroke:#1f77b4;\" x=\"117.28183\" xlink:href=\"#m66809e079a\" y=\"229.874489\"/>\n     <use style=\"fill:#1f77b4;stroke:#1f77b4;\" x=\"143.185118\" xlink:href=\"#m66809e079a\" y=\"229.874489\"/>\n     <use style=\"fill:#1f77b4;stroke:#1f77b4;\" x=\"194.991695\" xlink:href=\"#m66809e079a\" y=\"229.874489\"/>\n     <use style=\"fill:#1f77b4;stroke:#1f77b4;\" x=\"149.660941\" xlink:href=\"#m66809e079a\" y=\"229.874489\"/>\n     <use style=\"fill:#1f77b4;stroke:#1f77b4;\" x=\"130.233474\" xlink:href=\"#m66809e079a\" y=\"229.874489\"/>\n     <use style=\"fill:#1f77b4;stroke:#1f77b4;\" x=\"130.233474\" xlink:href=\"#m66809e079a\" y=\"229.874489\"/>\n     <use style=\"fill:#1f77b4;stroke:#1f77b4;\" x=\"71.951076\" xlink:href=\"#m66809e079a\" y=\"229.874489\"/>\n     <use style=\"fill:#1f77b4;stroke:#1f77b4;\" x=\"130.233474\" xlink:href=\"#m66809e079a\" y=\"229.874489\"/>\n     <use style=\"fill:#1f77b4;stroke:#1f77b4;\" x=\"162.612585\" xlink:href=\"#m66809e079a\" y=\"229.874489\"/>\n     <use style=\"fill:#1f77b4;stroke:#1f77b4;\" x=\"136.709296\" xlink:href=\"#m66809e079a\" y=\"229.874489\"/>\n     <use style=\"fill:#1f77b4;stroke:#1f77b4;\" x=\"117.28183\" xlink:href=\"#m66809e079a\" y=\"229.874489\"/>\n     <use style=\"fill:#1f77b4;stroke:#1f77b4;\" x=\"136.709296\" xlink:href=\"#m66809e079a\" y=\"229.874489\"/>\n     <use style=\"fill:#1f77b4;stroke:#1f77b4;\" x=\"84.90272\" xlink:href=\"#m66809e079a\" y=\"229.874489\"/>\n     <use style=\"fill:#1f77b4;stroke:#1f77b4;\" x=\"97.854364\" xlink:href=\"#m66809e079a\" y=\"229.874489\"/>\n     <use style=\"fill:#1f77b4;stroke:#1f77b4;\" x=\"162.612585\" xlink:href=\"#m66809e079a\" y=\"229.874489\"/>\n     <use style=\"fill:#1f77b4;stroke:#1f77b4;\" x=\"182.040051\" xlink:href=\"#m66809e079a\" y=\"229.874489\"/>\n     <use style=\"fill:#1f77b4;stroke:#1f77b4;\" x=\"201.467517\" xlink:href=\"#m66809e079a\" y=\"229.874489\"/>\n     <use style=\"fill:#1f77b4;stroke:#1f77b4;\" x=\"78.426898\" xlink:href=\"#m66809e079a\" y=\"229.874489\"/>\n     <use style=\"fill:#1f77b4;stroke:#1f77b4;\" x=\"104.330186\" xlink:href=\"#m66809e079a\" y=\"229.874489\"/>\n     <use style=\"fill:#1f77b4;stroke:#1f77b4;\" x=\"149.660941\" xlink:href=\"#m66809e079a\" y=\"229.874489\"/>\n     <use style=\"fill:#1f77b4;stroke:#1f77b4;\" x=\"207.943339\" xlink:href=\"#m66809e079a\" y=\"229.874489\"/>\n     <use style=\"fill:#1f77b4;stroke:#1f77b4;\" x=\"117.28183\" xlink:href=\"#m66809e079a\" y=\"229.874489\"/>\n     <use style=\"fill:#1f77b4;stroke:#1f77b4;\" x=\"156.136763\" xlink:href=\"#m66809e079a\" y=\"229.874489\"/>\n     <use style=\"fill:#1f77b4;stroke:#1f77b4;\" x=\"182.040051\" xlink:href=\"#m66809e079a\" y=\"229.874489\"/>\n     <use style=\"fill:#1f77b4;stroke:#1f77b4;\" x=\"207.943339\" xlink:href=\"#m66809e079a\" y=\"229.874489\"/>\n     <use style=\"fill:#1f77b4;stroke:#1f77b4;\" x=\"104.330186\" xlink:href=\"#m66809e079a\" y=\"229.874489\"/>\n     <use style=\"fill:#1f77b4;stroke:#1f77b4;\" x=\"136.709296\" xlink:href=\"#m66809e079a\" y=\"229.874489\"/>\n     <use style=\"fill:#1f77b4;stroke:#1f77b4;\" x=\"175.564229\" xlink:href=\"#m66809e079a\" y=\"229.874489\"/>\n     <use style=\"fill:#1f77b4;stroke:#1f77b4;\" x=\"182.040051\" xlink:href=\"#m66809e079a\" y=\"229.874489\"/>\n     <use style=\"fill:#1f77b4;stroke:#1f77b4;\" x=\"162.612585\" xlink:href=\"#m66809e079a\" y=\"229.874489\"/>\n     <use style=\"fill:#1f77b4;stroke:#1f77b4;\" x=\"363.363068\" xlink:href=\"#m66809e079a\" y=\"229.874489\"/>\n     <use style=\"fill:#1f77b4;stroke:#1f77b4;\" x=\"156.136763\" xlink:href=\"#m66809e079a\" y=\"229.874489\"/>\n     <use style=\"fill:#1f77b4;stroke:#1f77b4;\" x=\"149.660941\" xlink:href=\"#m66809e079a\" y=\"229.874489\"/>\n     <use style=\"fill:#1f77b4;stroke:#1f77b4;\" x=\"58.999432\" xlink:href=\"#m66809e079a\" y=\"229.874489\"/>\n     <use style=\"fill:#1f77b4;stroke:#1f77b4;\" x=\"91.378542\" xlink:href=\"#m66809e079a\" y=\"229.874489\"/>\n     <use style=\"fill:#1f77b4;stroke:#1f77b4;\" x=\"207.943339\" xlink:href=\"#m66809e079a\" y=\"229.874489\"/>\n     <use style=\"fill:#1f77b4;stroke:#1f77b4;\" x=\"207.943339\" xlink:href=\"#m66809e079a\" y=\"229.874489\"/>\n     <use style=\"fill:#1f77b4;stroke:#1f77b4;\" x=\"201.467517\" xlink:href=\"#m66809e079a\" y=\"229.874489\"/>\n     <use style=\"fill:#1f77b4;stroke:#1f77b4;\" x=\"97.854364\" xlink:href=\"#m66809e079a\" y=\"229.874489\"/>\n     <use style=\"fill:#1f77b4;stroke:#1f77b4;\" x=\"207.943339\" xlink:href=\"#m66809e079a\" y=\"229.874489\"/>\n     <use style=\"fill:#1f77b4;stroke:#1f77b4;\" x=\"162.612585\" xlink:href=\"#m66809e079a\" y=\"229.874489\"/>\n     <use style=\"fill:#1f77b4;stroke:#1f77b4;\" x=\"156.136763\" xlink:href=\"#m66809e079a\" y=\"229.874489\"/>\n     <use style=\"fill:#1f77b4;stroke:#1f77b4;\" x=\"207.943339\" xlink:href=\"#m66809e079a\" y=\"229.874489\"/>\n     <use style=\"fill:#1f77b4;stroke:#1f77b4;\" x=\"65.475254\" xlink:href=\"#m66809e079a\" y=\"229.874489\"/>\n     <use style=\"fill:#1f77b4;stroke:#1f77b4;\" x=\"207.943339\" xlink:href=\"#m66809e079a\" y=\"229.874489\"/>\n     <use style=\"fill:#1f77b4;stroke:#1f77b4;\" x=\"207.943339\" xlink:href=\"#m66809e079a\" y=\"229.874489\"/>\n     <use style=\"fill:#1f77b4;stroke:#1f77b4;\" x=\"91.378542\" xlink:href=\"#m66809e079a\" y=\"229.874489\"/>\n     <use style=\"fill:#1f77b4;stroke:#1f77b4;\" x=\"207.943339\" xlink:href=\"#m66809e079a\" y=\"229.874489\"/>\n     <use style=\"fill:#1f77b4;stroke:#1f77b4;\" x=\"207.943339\" xlink:href=\"#m66809e079a\" y=\"229.874489\"/>\n     <use style=\"fill:#1f77b4;stroke:#1f77b4;\" x=\"136.709296\" xlink:href=\"#m66809e079a\" y=\"229.874489\"/>\n     <use style=\"fill:#1f77b4;stroke:#1f77b4;\" x=\"65.475254\" xlink:href=\"#m66809e079a\" y=\"229.874489\"/>\n     <use style=\"fill:#1f77b4;stroke:#1f77b4;\" x=\"194.991695\" xlink:href=\"#m66809e079a\" y=\"229.874489\"/>\n     <use style=\"fill:#1f77b4;stroke:#1f77b4;\" x=\"130.233474\" xlink:href=\"#m66809e079a\" y=\"229.874489\"/>\n     <use style=\"fill:#1f77b4;stroke:#1f77b4;\" x=\"130.233474\" xlink:href=\"#m66809e079a\" y=\"229.874489\"/>\n     <use style=\"fill:#1f77b4;stroke:#1f77b4;\" x=\"110.806008\" xlink:href=\"#m66809e079a\" y=\"229.874489\"/>\n     <use style=\"fill:#1f77b4;stroke:#1f77b4;\" x=\"91.378542\" xlink:href=\"#m66809e079a\" y=\"229.874489\"/>\n     <use style=\"fill:#1f77b4;stroke:#1f77b4;\" x=\"194.991695\" xlink:href=\"#m66809e079a\" y=\"229.874489\"/>\n     <use style=\"fill:#1f77b4;stroke:#1f77b4;\" x=\"117.28183\" xlink:href=\"#m66809e079a\" y=\"229.874489\"/>\n     <use style=\"fill:#1f77b4;stroke:#1f77b4;\" x=\"207.943339\" xlink:href=\"#m66809e079a\" y=\"229.874489\"/>\n     <use style=\"fill:#1f77b4;stroke:#1f77b4;\" x=\"207.943339\" xlink:href=\"#m66809e079a\" y=\"229.874489\"/>\n     <use style=\"fill:#1f77b4;stroke:#1f77b4;\" x=\"207.943339\" xlink:href=\"#m66809e079a\" y=\"229.874489\"/>\n     <use style=\"fill:#1f77b4;stroke:#1f77b4;\" x=\"207.943339\" xlink:href=\"#m66809e079a\" y=\"229.874489\"/>\n     <use style=\"fill:#1f77b4;stroke:#1f77b4;\" x=\"156.136763\" xlink:href=\"#m66809e079a\" y=\"229.874489\"/>\n     <use style=\"fill:#1f77b4;stroke:#1f77b4;\" x=\"207.943339\" xlink:href=\"#m66809e079a\" y=\"229.874489\"/>\n     <use style=\"fill:#1f77b4;stroke:#1f77b4;\" x=\"207.943339\" xlink:href=\"#m66809e079a\" y=\"229.874489\"/>\n     <use style=\"fill:#1f77b4;stroke:#1f77b4;\" x=\"363.363068\" xlink:href=\"#m66809e079a\" y=\"229.874489\"/>\n     <use style=\"fill:#1f77b4;stroke:#1f77b4;\" x=\"207.943339\" xlink:href=\"#m66809e079a\" y=\"229.874489\"/>\n     <use style=\"fill:#1f77b4;stroke:#1f77b4;\" x=\"175.564229\" xlink:href=\"#m66809e079a\" y=\"229.874489\"/>\n     <use style=\"fill:#1f77b4;stroke:#1f77b4;\" x=\"156.136763\" xlink:href=\"#m66809e079a\" y=\"229.874489\"/>\n     <use style=\"fill:#1f77b4;stroke:#1f77b4;\" x=\"175.564229\" xlink:href=\"#m66809e079a\" y=\"229.874489\"/>\n     <use style=\"fill:#1f77b4;stroke:#1f77b4;\" x=\"363.363068\" xlink:href=\"#m66809e079a\" y=\"229.874489\"/>\n     <use style=\"fill:#1f77b4;stroke:#1f77b4;\" x=\"123.757652\" xlink:href=\"#m66809e079a\" y=\"229.874489\"/>\n     <use style=\"fill:#1f77b4;stroke:#1f77b4;\" x=\"123.757652\" xlink:href=\"#m66809e079a\" y=\"229.874489\"/>\n     <use style=\"fill:#1f77b4;stroke:#1f77b4;\" x=\"207.943339\" xlink:href=\"#m66809e079a\" y=\"229.874489\"/>\n     <use style=\"fill:#1f77b4;stroke:#1f77b4;\" x=\"188.515873\" xlink:href=\"#m66809e079a\" y=\"229.874489\"/>\n     <use style=\"fill:#1f77b4;stroke:#1f77b4;\" x=\"169.088407\" xlink:href=\"#m66809e079a\" y=\"229.874489\"/>\n     <use style=\"fill:#1f77b4;stroke:#1f77b4;\" x=\"162.612585\" xlink:href=\"#m66809e079a\" y=\"229.874489\"/>\n     <use style=\"fill:#1f77b4;stroke:#1f77b4;\" x=\"123.757652\" xlink:href=\"#m66809e079a\" y=\"229.874489\"/>\n     <use style=\"fill:#1f77b4;stroke:#1f77b4;\" x=\"207.943339\" xlink:href=\"#m66809e079a\" y=\"229.874489\"/>\n     <use style=\"fill:#1f77b4;stroke:#1f77b4;\" x=\"207.943339\" xlink:href=\"#m66809e079a\" y=\"229.874489\"/>\n     <use style=\"fill:#1f77b4;stroke:#1f77b4;\" x=\"207.943339\" xlink:href=\"#m66809e079a\" y=\"229.874489\"/>\n     <use style=\"fill:#1f77b4;stroke:#1f77b4;\" x=\"97.854364\" xlink:href=\"#m66809e079a\" y=\"229.874489\"/>\n     <use style=\"fill:#1f77b4;stroke:#1f77b4;\" x=\"207.943339\" xlink:href=\"#m66809e079a\" y=\"229.874489\"/>\n     <use style=\"fill:#1f77b4;stroke:#1f77b4;\" x=\"194.991695\" xlink:href=\"#m66809e079a\" y=\"229.874489\"/>\n     <use style=\"fill:#1f77b4;stroke:#1f77b4;\" x=\"207.943339\" xlink:href=\"#m66809e079a\" y=\"229.874489\"/>\n     <use style=\"fill:#1f77b4;stroke:#1f77b4;\" x=\"363.363068\" xlink:href=\"#m66809e079a\" y=\"229.874489\"/>\n     <use style=\"fill:#1f77b4;stroke:#1f77b4;\" x=\"123.757652\" xlink:href=\"#m66809e079a\" y=\"229.874489\"/>\n     <use style=\"fill:#1f77b4;stroke:#1f77b4;\" x=\"130.233474\" xlink:href=\"#m66809e079a\" y=\"229.874489\"/>\n     <use style=\"fill:#1f77b4;stroke:#1f77b4;\" x=\"143.185118\" xlink:href=\"#m66809e079a\" y=\"229.874489\"/>\n     <use style=\"fill:#1f77b4;stroke:#1f77b4;\" x=\"207.943339\" xlink:href=\"#m66809e079a\" y=\"229.874489\"/>\n     <use style=\"fill:#1f77b4;stroke:#1f77b4;\" x=\"207.943339\" xlink:href=\"#m66809e079a\" y=\"229.874489\"/>\n     <use style=\"fill:#1f77b4;stroke:#1f77b4;\" x=\"130.233474\" xlink:href=\"#m66809e079a\" y=\"229.874489\"/>\n     <use style=\"fill:#1f77b4;stroke:#1f77b4;\" x=\"207.943339\" xlink:href=\"#m66809e079a\" y=\"229.874489\"/>\n     <use style=\"fill:#1f77b4;stroke:#1f77b4;\" x=\"207.943339\" xlink:href=\"#m66809e079a\" y=\"229.874489\"/>\n     <use style=\"fill:#1f77b4;stroke:#1f77b4;\" x=\"207.943339\" xlink:href=\"#m66809e079a\" y=\"229.874489\"/>\n     <use style=\"fill:#1f77b4;stroke:#1f77b4;\" x=\"207.943339\" xlink:href=\"#m66809e079a\" y=\"229.874489\"/>\n     <use style=\"fill:#1f77b4;stroke:#1f77b4;\" x=\"207.943339\" xlink:href=\"#m66809e079a\" y=\"229.874489\"/>\n     <use style=\"fill:#1f77b4;stroke:#1f77b4;\" x=\"162.612585\" xlink:href=\"#m66809e079a\" y=\"229.874489\"/>\n     <use style=\"fill:#1f77b4;stroke:#1f77b4;\" x=\"156.136763\" xlink:href=\"#m66809e079a\" y=\"229.874489\"/>\n     <use style=\"fill:#1f77b4;stroke:#1f77b4;\" x=\"207.943339\" xlink:href=\"#m66809e079a\" y=\"229.874489\"/>\n     <use style=\"fill:#1f77b4;stroke:#1f77b4;\" x=\"91.378542\" xlink:href=\"#m66809e079a\" y=\"229.874489\"/>\n     <use style=\"fill:#1f77b4;stroke:#1f77b4;\" x=\"91.378542\" xlink:href=\"#m66809e079a\" y=\"229.874489\"/>\n     <use style=\"fill:#1f77b4;stroke:#1f77b4;\" x=\"207.943339\" xlink:href=\"#m66809e079a\" y=\"229.874489\"/>\n     <use style=\"fill:#1f77b4;stroke:#1f77b4;\" x=\"207.943339\" xlink:href=\"#m66809e079a\" y=\"229.874489\"/>\n     <use style=\"fill:#1f77b4;stroke:#1f77b4;\" x=\"363.363068\" xlink:href=\"#m66809e079a\" y=\"229.874489\"/>\n     <use style=\"fill:#1f77b4;stroke:#1f77b4;\" x=\"91.378542\" xlink:href=\"#m66809e079a\" y=\"229.874489\"/>\n     <use style=\"fill:#1f77b4;stroke:#1f77b4;\" x=\"207.943339\" xlink:href=\"#m66809e079a\" y=\"229.874489\"/>\n     <use style=\"fill:#1f77b4;stroke:#1f77b4;\" x=\"363.363068\" xlink:href=\"#m66809e079a\" y=\"229.874489\"/>\n     <use style=\"fill:#1f77b4;stroke:#1f77b4;\" x=\"207.943339\" xlink:href=\"#m66809e079a\" y=\"229.874489\"/>\n     <use style=\"fill:#1f77b4;stroke:#1f77b4;\" x=\"117.28183\" xlink:href=\"#m66809e079a\" y=\"229.874489\"/>\n     <use style=\"fill:#1f77b4;stroke:#1f77b4;\" x=\"207.943339\" xlink:href=\"#m66809e079a\" y=\"229.874489\"/>\n     <use style=\"fill:#1f77b4;stroke:#1f77b4;\" x=\"363.363068\" xlink:href=\"#m66809e079a\" y=\"229.874489\"/>\n     <use style=\"fill:#1f77b4;stroke:#1f77b4;\" x=\"207.943339\" xlink:href=\"#m66809e079a\" y=\"229.874489\"/>\n     <use style=\"fill:#1f77b4;stroke:#1f77b4;\" x=\"207.943339\" xlink:href=\"#m66809e079a\" y=\"229.874489\"/>\n     <use style=\"fill:#1f77b4;stroke:#1f77b4;\" x=\"110.806008\" xlink:href=\"#m66809e079a\" y=\"229.874489\"/>\n     <use style=\"fill:#1f77b4;stroke:#1f77b4;\" x=\"363.363068\" xlink:href=\"#m66809e079a\" y=\"229.874489\"/>\n     <use style=\"fill:#1f77b4;stroke:#1f77b4;\" x=\"207.943339\" xlink:href=\"#m66809e079a\" y=\"229.874489\"/>\n     <use style=\"fill:#1f77b4;stroke:#1f77b4;\" x=\"363.363068\" xlink:href=\"#m66809e079a\" y=\"229.874489\"/>\n     <use style=\"fill:#1f77b4;stroke:#1f77b4;\" x=\"363.363068\" xlink:href=\"#m66809e079a\" y=\"229.874489\"/>\n     <use style=\"fill:#1f77b4;stroke:#1f77b4;\" x=\"363.363068\" xlink:href=\"#m66809e079a\" y=\"229.874489\"/>\n    </g>\n   </g>\n   <g id=\"matplotlib.axis_1\">\n    <g id=\"xtick_1\">\n     <g id=\"line2d_1\">\n      <defs>\n       <path d=\"M 0 0 \nL 0 3.5 \n\" id=\"m5ad5857409\" style=\"stroke:#000000;stroke-width:0.8;\"/>\n      </defs>\n      <g>\n       <use style=\"stroke:#000000;stroke-width:0.8;\" x=\"52.52361\" xlink:href=\"#m5ad5857409\" y=\"239.758125\"/>\n      </g>\n     </g>\n     <g id=\"text_1\">\n      <!-- 0 -->\n      <g transform=\"translate(49.34236 254.356562)scale(0.1 -0.1)\">\n       <defs>\n        <path d=\"M 2034 4250 \nQ 1547 4250 1301 3770 \nQ 1056 3291 1056 2328 \nQ 1056 1369 1301 889 \nQ 1547 409 2034 409 \nQ 2525 409 2770 889 \nQ 3016 1369 3016 2328 \nQ 3016 3291 2770 3770 \nQ 2525 4250 2034 4250 \nz\nM 2034 4750 \nQ 2819 4750 3233 4129 \nQ 3647 3509 3647 2328 \nQ 3647 1150 3233 529 \nQ 2819 -91 2034 -91 \nQ 1250 -91 836 529 \nQ 422 1150 422 2328 \nQ 422 3509 836 4129 \nQ 1250 4750 2034 4750 \nz\n\" id=\"DejaVuSans-30\" transform=\"scale(0.015625)\"/>\n       </defs>\n       <use xlink:href=\"#DejaVuSans-30\"/>\n      </g>\n     </g>\n    </g>\n    <g id=\"xtick_2\">\n     <g id=\"line2d_2\">\n      <g>\n       <use style=\"stroke:#000000;stroke-width:0.8;\" x=\"117.28183\" xlink:href=\"#m5ad5857409\" y=\"239.758125\"/>\n      </g>\n     </g>\n     <g id=\"text_2\">\n      <!-- 10 -->\n      <g transform=\"translate(110.91933 254.356562)scale(0.1 -0.1)\">\n       <defs>\n        <path d=\"M 794 531 \nL 1825 531 \nL 1825 4091 \nL 703 3866 \nL 703 4441 \nL 1819 4666 \nL 2450 4666 \nL 2450 531 \nL 3481 531 \nL 3481 0 \nL 794 0 \nL 794 531 \nz\n\" id=\"DejaVuSans-31\" transform=\"scale(0.015625)\"/>\n       </defs>\n       <use xlink:href=\"#DejaVuSans-31\"/>\n       <use x=\"63.623047\" xlink:href=\"#DejaVuSans-30\"/>\n      </g>\n     </g>\n    </g>\n    <g id=\"xtick_3\">\n     <g id=\"line2d_3\">\n      <g>\n       <use style=\"stroke:#000000;stroke-width:0.8;\" x=\"182.040051\" xlink:href=\"#m5ad5857409\" y=\"239.758125\"/>\n      </g>\n     </g>\n     <g id=\"text_3\">\n      <!-- 20 -->\n      <g transform=\"translate(175.677551 254.356562)scale(0.1 -0.1)\">\n       <defs>\n        <path d=\"M 1228 531 \nL 3431 531 \nL 3431 0 \nL 469 0 \nL 469 531 \nQ 828 903 1448 1529 \nQ 2069 2156 2228 2338 \nQ 2531 2678 2651 2914 \nQ 2772 3150 2772 3378 \nQ 2772 3750 2511 3984 \nQ 2250 4219 1831 4219 \nQ 1534 4219 1204 4116 \nQ 875 4013 500 3803 \nL 500 4441 \nQ 881 4594 1212 4672 \nQ 1544 4750 1819 4750 \nQ 2544 4750 2975 4387 \nQ 3406 4025 3406 3419 \nQ 3406 3131 3298 2873 \nQ 3191 2616 2906 2266 \nQ 2828 2175 2409 1742 \nQ 1991 1309 1228 531 \nz\n\" id=\"DejaVuSans-32\" transform=\"scale(0.015625)\"/>\n       </defs>\n       <use xlink:href=\"#DejaVuSans-32\"/>\n       <use x=\"63.623047\" xlink:href=\"#DejaVuSans-30\"/>\n      </g>\n     </g>\n    </g>\n    <g id=\"xtick_4\">\n     <g id=\"line2d_4\">\n      <g>\n       <use style=\"stroke:#000000;stroke-width:0.8;\" x=\"246.798271\" xlink:href=\"#m5ad5857409\" y=\"239.758125\"/>\n      </g>\n     </g>\n     <g id=\"text_4\">\n      <!-- 30 -->\n      <g transform=\"translate(240.435771 254.356562)scale(0.1 -0.1)\">\n       <defs>\n        <path d=\"M 2597 2516 \nQ 3050 2419 3304 2112 \nQ 3559 1806 3559 1356 \nQ 3559 666 3084 287 \nQ 2609 -91 1734 -91 \nQ 1441 -91 1130 -33 \nQ 819 25 488 141 \nL 488 750 \nQ 750 597 1062 519 \nQ 1375 441 1716 441 \nQ 2309 441 2620 675 \nQ 2931 909 2931 1356 \nQ 2931 1769 2642 2001 \nQ 2353 2234 1838 2234 \nL 1294 2234 \nL 1294 2753 \nL 1863 2753 \nQ 2328 2753 2575 2939 \nQ 2822 3125 2822 3475 \nQ 2822 3834 2567 4026 \nQ 2313 4219 1838 4219 \nQ 1578 4219 1281 4162 \nQ 984 4106 628 3988 \nL 628 4550 \nQ 988 4650 1302 4700 \nQ 1616 4750 1894 4750 \nQ 2613 4750 3031 4423 \nQ 3450 4097 3450 3541 \nQ 3450 3153 3228 2886 \nQ 3006 2619 2597 2516 \nz\n\" id=\"DejaVuSans-33\" transform=\"scale(0.015625)\"/>\n       </defs>\n       <use xlink:href=\"#DejaVuSans-33\"/>\n       <use x=\"63.623047\" xlink:href=\"#DejaVuSans-30\"/>\n      </g>\n     </g>\n    </g>\n    <g id=\"xtick_5\">\n     <g id=\"line2d_5\">\n      <g>\n       <use style=\"stroke:#000000;stroke-width:0.8;\" x=\"311.556492\" xlink:href=\"#m5ad5857409\" y=\"239.758125\"/>\n      </g>\n     </g>\n     <g id=\"text_5\">\n      <!-- 40 -->\n      <g transform=\"translate(305.193992 254.356562)scale(0.1 -0.1)\">\n       <defs>\n        <path d=\"M 2419 4116 \nL 825 1625 \nL 2419 1625 \nL 2419 4116 \nz\nM 2253 4666 \nL 3047 4666 \nL 3047 1625 \nL 3713 1625 \nL 3713 1100 \nL 3047 1100 \nL 3047 0 \nL 2419 0 \nL 2419 1100 \nL 313 1100 \nL 313 1709 \nL 2253 4666 \nz\n\" id=\"DejaVuSans-34\" transform=\"scale(0.015625)\"/>\n       </defs>\n       <use xlink:href=\"#DejaVuSans-34\"/>\n       <use x=\"63.623047\" xlink:href=\"#DejaVuSans-30\"/>\n      </g>\n     </g>\n    </g>\n    <g id=\"xtick_6\">\n     <g id=\"line2d_6\">\n      <g>\n       <use style=\"stroke:#000000;stroke-width:0.8;\" x=\"376.314712\" xlink:href=\"#m5ad5857409\" y=\"239.758125\"/>\n      </g>\n     </g>\n     <g id=\"text_6\">\n      <!-- 50 -->\n      <g transform=\"translate(369.952212 254.356562)scale(0.1 -0.1)\">\n       <defs>\n        <path d=\"M 691 4666 \nL 3169 4666 \nL 3169 4134 \nL 1269 4134 \nL 1269 2991 \nQ 1406 3038 1543 3061 \nQ 1681 3084 1819 3084 \nQ 2600 3084 3056 2656 \nQ 3513 2228 3513 1497 \nQ 3513 744 3044 326 \nQ 2575 -91 1722 -91 \nQ 1428 -91 1123 -41 \nQ 819 9 494 109 \nL 494 744 \nQ 775 591 1075 516 \nQ 1375 441 1709 441 \nQ 2250 441 2565 725 \nQ 2881 1009 2881 1497 \nQ 2881 1984 2565 2268 \nQ 2250 2553 1709 2553 \nQ 1456 2553 1204 2497 \nQ 953 2441 691 2322 \nL 691 4666 \nz\n\" id=\"DejaVuSans-35\" transform=\"scale(0.015625)\"/>\n       </defs>\n       <use xlink:href=\"#DejaVuSans-35\"/>\n       <use x=\"63.623047\" xlink:href=\"#DejaVuSans-30\"/>\n      </g>\n     </g>\n    </g>\n    <g id=\"text_7\">\n     <!-- Age -->\n     <g transform=\"translate(201.510156 268.034687)scale(0.1 -0.1)\">\n      <defs>\n       <path d=\"M 2188 4044 \nL 1331 1722 \nL 3047 1722 \nL 2188 4044 \nz\nM 1831 4666 \nL 2547 4666 \nL 4325 0 \nL 3669 0 \nL 3244 1197 \nL 1141 1197 \nL 716 0 \nL 50 0 \nL 1831 4666 \nz\n\" id=\"DejaVuSans-41\" transform=\"scale(0.015625)\"/>\n       <path d=\"M 2906 1791 \nQ 2906 2416 2648 2759 \nQ 2391 3103 1925 3103 \nQ 1463 3103 1205 2759 \nQ 947 2416 947 1791 \nQ 947 1169 1205 825 \nQ 1463 481 1925 481 \nQ 2391 481 2648 825 \nQ 2906 1169 2906 1791 \nz\nM 3481 434 \nQ 3481 -459 3084 -895 \nQ 2688 -1331 1869 -1331 \nQ 1566 -1331 1297 -1286 \nQ 1028 -1241 775 -1147 \nL 775 -588 \nQ 1028 -725 1275 -790 \nQ 1522 -856 1778 -856 \nQ 2344 -856 2625 -561 \nQ 2906 -266 2906 331 \nL 2906 616 \nQ 2728 306 2450 153 \nQ 2172 0 1784 0 \nQ 1141 0 747 490 \nQ 353 981 353 1791 \nQ 353 2603 747 3093 \nQ 1141 3584 1784 3584 \nQ 2172 3584 2450 3431 \nQ 2728 3278 2906 2969 \nL 2906 3500 \nL 3481 3500 \nL 3481 434 \nz\n\" id=\"DejaVuSans-67\" transform=\"scale(0.015625)\"/>\n       <path d=\"M 3597 1894 \nL 3597 1613 \nL 953 1613 \nQ 991 1019 1311 708 \nQ 1631 397 2203 397 \nQ 2534 397 2845 478 \nQ 3156 559 3463 722 \nL 3463 178 \nQ 3153 47 2828 -22 \nQ 2503 -91 2169 -91 \nQ 1331 -91 842 396 \nQ 353 884 353 1716 \nQ 353 2575 817 3079 \nQ 1281 3584 2069 3584 \nQ 2775 3584 3186 3129 \nQ 3597 2675 3597 1894 \nz\nM 3022 2063 \nQ 3016 2534 2758 2815 \nQ 2500 3097 2075 3097 \nQ 1594 3097 1305 2825 \nQ 1016 2553 972 2059 \nL 3022 2063 \nz\n\" id=\"DejaVuSans-65\" transform=\"scale(0.015625)\"/>\n      </defs>\n      <use xlink:href=\"#DejaVuSans-41\"/>\n      <use x=\"68.408203\" xlink:href=\"#DejaVuSans-67\"/>\n      <use x=\"131.884766\" xlink:href=\"#DejaVuSans-65\"/>\n     </g>\n    </g>\n   </g>\n   <g id=\"matplotlib.axis_2\">\n    <g id=\"ytick_1\">\n     <g id=\"line2d_7\">\n      <defs>\n       <path d=\"M 0 0 \nL -3.5 0 \n\" id=\"m6ac7a0cb3c\" style=\"stroke:#000000;stroke-width:0.8;\"/>\n      </defs>\n      <g>\n       <use style=\"stroke:#000000;stroke-width:0.8;\" x=\"43.78125\" xlink:href=\"#m6ac7a0cb3c\" y=\"229.874489\"/>\n      </g>\n     </g>\n     <g id=\"text_8\">\n      <!-- 0.0 -->\n      <g transform=\"translate(20.878125 233.673707)scale(0.1 -0.1)\">\n       <defs>\n        <path d=\"M 684 794 \nL 1344 794 \nL 1344 0 \nL 684 0 \nL 684 794 \nz\n\" id=\"DejaVuSans-2e\" transform=\"scale(0.015625)\"/>\n       </defs>\n       <use xlink:href=\"#DejaVuSans-30\"/>\n       <use x=\"63.623047\" xlink:href=\"#DejaVuSans-2e\"/>\n       <use x=\"95.410156\" xlink:href=\"#DejaVuSans-30\"/>\n      </g>\n     </g>\n    </g>\n    <g id=\"ytick_2\">\n     <g id=\"line2d_8\">\n      <g>\n       <use style=\"stroke:#000000;stroke-width:0.8;\" x=\"43.78125\" xlink:href=\"#m6ac7a0cb3c\" y=\"190.339943\"/>\n      </g>\n     </g>\n     <g id=\"text_9\">\n      <!-- 0.2 -->\n      <g transform=\"translate(20.878125 194.139162)scale(0.1 -0.1)\">\n       <use xlink:href=\"#DejaVuSans-30\"/>\n       <use x=\"63.623047\" xlink:href=\"#DejaVuSans-2e\"/>\n       <use x=\"95.410156\" xlink:href=\"#DejaVuSans-32\"/>\n      </g>\n     </g>\n    </g>\n    <g id=\"ytick_3\">\n     <g id=\"line2d_9\">\n      <g>\n       <use style=\"stroke:#000000;stroke-width:0.8;\" x=\"43.78125\" xlink:href=\"#m6ac7a0cb3c\" y=\"150.805398\"/>\n      </g>\n     </g>\n     <g id=\"text_10\">\n      <!-- 0.4 -->\n      <g transform=\"translate(20.878125 154.604616)scale(0.1 -0.1)\">\n       <use xlink:href=\"#DejaVuSans-30\"/>\n       <use x=\"63.623047\" xlink:href=\"#DejaVuSans-2e\"/>\n       <use x=\"95.410156\" xlink:href=\"#DejaVuSans-34\"/>\n      </g>\n     </g>\n    </g>\n    <g id=\"ytick_4\">\n     <g id=\"line2d_10\">\n      <g>\n       <use style=\"stroke:#000000;stroke-width:0.8;\" x=\"43.78125\" xlink:href=\"#m6ac7a0cb3c\" y=\"111.270852\"/>\n      </g>\n     </g>\n     <g id=\"text_11\">\n      <!-- 0.6 -->\n      <g transform=\"translate(20.878125 115.070071)scale(0.1 -0.1)\">\n       <defs>\n        <path d=\"M 2113 2584 \nQ 1688 2584 1439 2293 \nQ 1191 2003 1191 1497 \nQ 1191 994 1439 701 \nQ 1688 409 2113 409 \nQ 2538 409 2786 701 \nQ 3034 994 3034 1497 \nQ 3034 2003 2786 2293 \nQ 2538 2584 2113 2584 \nz\nM 3366 4563 \nL 3366 3988 \nQ 3128 4100 2886 4159 \nQ 2644 4219 2406 4219 \nQ 1781 4219 1451 3797 \nQ 1122 3375 1075 2522 \nQ 1259 2794 1537 2939 \nQ 1816 3084 2150 3084 \nQ 2853 3084 3261 2657 \nQ 3669 2231 3669 1497 \nQ 3669 778 3244 343 \nQ 2819 -91 2113 -91 \nQ 1303 -91 875 529 \nQ 447 1150 447 2328 \nQ 447 3434 972 4092 \nQ 1497 4750 2381 4750 \nQ 2619 4750 2861 4703 \nQ 3103 4656 3366 4563 \nz\n\" id=\"DejaVuSans-36\" transform=\"scale(0.015625)\"/>\n       </defs>\n       <use xlink:href=\"#DejaVuSans-30\"/>\n       <use x=\"63.623047\" xlink:href=\"#DejaVuSans-2e\"/>\n       <use x=\"95.410156\" xlink:href=\"#DejaVuSans-36\"/>\n      </g>\n     </g>\n    </g>\n    <g id=\"ytick_5\">\n     <g id=\"line2d_11\">\n      <g>\n       <use style=\"stroke:#000000;stroke-width:0.8;\" x=\"43.78125\" xlink:href=\"#m6ac7a0cb3c\" y=\"71.736307\"/>\n      </g>\n     </g>\n     <g id=\"text_12\">\n      <!-- 0.8 -->\n      <g transform=\"translate(20.878125 75.535526)scale(0.1 -0.1)\">\n       <defs>\n        <path d=\"M 2034 2216 \nQ 1584 2216 1326 1975 \nQ 1069 1734 1069 1313 \nQ 1069 891 1326 650 \nQ 1584 409 2034 409 \nQ 2484 409 2743 651 \nQ 3003 894 3003 1313 \nQ 3003 1734 2745 1975 \nQ 2488 2216 2034 2216 \nz\nM 1403 2484 \nQ 997 2584 770 2862 \nQ 544 3141 544 3541 \nQ 544 4100 942 4425 \nQ 1341 4750 2034 4750 \nQ 2731 4750 3128 4425 \nQ 3525 4100 3525 3541 \nQ 3525 3141 3298 2862 \nQ 3072 2584 2669 2484 \nQ 3125 2378 3379 2068 \nQ 3634 1759 3634 1313 \nQ 3634 634 3220 271 \nQ 2806 -91 2034 -91 \nQ 1263 -91 848 271 \nQ 434 634 434 1313 \nQ 434 1759 690 2068 \nQ 947 2378 1403 2484 \nz\nM 1172 3481 \nQ 1172 3119 1398 2916 \nQ 1625 2713 2034 2713 \nQ 2441 2713 2670 2916 \nQ 2900 3119 2900 3481 \nQ 2900 3844 2670 4047 \nQ 2441 4250 2034 4250 \nQ 1625 4250 1398 4047 \nQ 1172 3844 1172 3481 \nz\n\" id=\"DejaVuSans-38\" transform=\"scale(0.015625)\"/>\n       </defs>\n       <use xlink:href=\"#DejaVuSans-30\"/>\n       <use x=\"63.623047\" xlink:href=\"#DejaVuSans-2e\"/>\n       <use x=\"95.410156\" xlink:href=\"#DejaVuSans-38\"/>\n      </g>\n     </g>\n    </g>\n    <g id=\"ytick_6\">\n     <g id=\"line2d_12\">\n      <g>\n       <use style=\"stroke:#000000;stroke-width:0.8;\" x=\"43.78125\" xlink:href=\"#m6ac7a0cb3c\" y=\"32.201761\"/>\n      </g>\n     </g>\n     <g id=\"text_13\">\n      <!-- 1.0 -->\n      <g transform=\"translate(20.878125 36.00098)scale(0.1 -0.1)\">\n       <use xlink:href=\"#DejaVuSans-31\"/>\n       <use x=\"63.623047\" xlink:href=\"#DejaVuSans-2e\"/>\n       <use x=\"95.410156\" xlink:href=\"#DejaVuSans-30\"/>\n      </g>\n     </g>\n    </g>\n    <g id=\"text_14\">\n     <!-- FrontPage -->\n     <g transform=\"translate(14.798438 155.787344)rotate(-90)scale(0.1 -0.1)\">\n      <defs>\n       <path d=\"M 628 4666 \nL 3309 4666 \nL 3309 4134 \nL 1259 4134 \nL 1259 2759 \nL 3109 2759 \nL 3109 2228 \nL 1259 2228 \nL 1259 0 \nL 628 0 \nL 628 4666 \nz\n\" id=\"DejaVuSans-46\" transform=\"scale(0.015625)\"/>\n       <path d=\"M 2631 2963 \nQ 2534 3019 2420 3045 \nQ 2306 3072 2169 3072 \nQ 1681 3072 1420 2755 \nQ 1159 2438 1159 1844 \nL 1159 0 \nL 581 0 \nL 581 3500 \nL 1159 3500 \nL 1159 2956 \nQ 1341 3275 1631 3429 \nQ 1922 3584 2338 3584 \nQ 2397 3584 2469 3576 \nQ 2541 3569 2628 3553 \nL 2631 2963 \nz\n\" id=\"DejaVuSans-72\" transform=\"scale(0.015625)\"/>\n       <path d=\"M 1959 3097 \nQ 1497 3097 1228 2736 \nQ 959 2375 959 1747 \nQ 959 1119 1226 758 \nQ 1494 397 1959 397 \nQ 2419 397 2687 759 \nQ 2956 1122 2956 1747 \nQ 2956 2369 2687 2733 \nQ 2419 3097 1959 3097 \nz\nM 1959 3584 \nQ 2709 3584 3137 3096 \nQ 3566 2609 3566 1747 \nQ 3566 888 3137 398 \nQ 2709 -91 1959 -91 \nQ 1206 -91 779 398 \nQ 353 888 353 1747 \nQ 353 2609 779 3096 \nQ 1206 3584 1959 3584 \nz\n\" id=\"DejaVuSans-6f\" transform=\"scale(0.015625)\"/>\n       <path d=\"M 3513 2113 \nL 3513 0 \nL 2938 0 \nL 2938 2094 \nQ 2938 2591 2744 2837 \nQ 2550 3084 2163 3084 \nQ 1697 3084 1428 2787 \nQ 1159 2491 1159 1978 \nL 1159 0 \nL 581 0 \nL 581 3500 \nL 1159 3500 \nL 1159 2956 \nQ 1366 3272 1645 3428 \nQ 1925 3584 2291 3584 \nQ 2894 3584 3203 3211 \nQ 3513 2838 3513 2113 \nz\n\" id=\"DejaVuSans-6e\" transform=\"scale(0.015625)\"/>\n       <path d=\"M 1172 4494 \nL 1172 3500 \nL 2356 3500 \nL 2356 3053 \nL 1172 3053 \nL 1172 1153 \nQ 1172 725 1289 603 \nQ 1406 481 1766 481 \nL 2356 481 \nL 2356 0 \nL 1766 0 \nQ 1100 0 847 248 \nQ 594 497 594 1153 \nL 594 3053 \nL 172 3053 \nL 172 3500 \nL 594 3500 \nL 594 4494 \nL 1172 4494 \nz\n\" id=\"DejaVuSans-74\" transform=\"scale(0.015625)\"/>\n       <path d=\"M 1259 4147 \nL 1259 2394 \nL 2053 2394 \nQ 2494 2394 2734 2622 \nQ 2975 2850 2975 3272 \nQ 2975 3691 2734 3919 \nQ 2494 4147 2053 4147 \nL 1259 4147 \nz\nM 628 4666 \nL 2053 4666 \nQ 2838 4666 3239 4311 \nQ 3641 3956 3641 3272 \nQ 3641 2581 3239 2228 \nQ 2838 1875 2053 1875 \nL 1259 1875 \nL 1259 0 \nL 628 0 \nL 628 4666 \nz\n\" id=\"DejaVuSans-50\" transform=\"scale(0.015625)\"/>\n       <path d=\"M 2194 1759 \nQ 1497 1759 1228 1600 \nQ 959 1441 959 1056 \nQ 959 750 1161 570 \nQ 1363 391 1709 391 \nQ 2188 391 2477 730 \nQ 2766 1069 2766 1631 \nL 2766 1759 \nL 2194 1759 \nz\nM 3341 1997 \nL 3341 0 \nL 2766 0 \nL 2766 531 \nQ 2569 213 2275 61 \nQ 1981 -91 1556 -91 \nQ 1019 -91 701 211 \nQ 384 513 384 1019 \nQ 384 1609 779 1909 \nQ 1175 2209 1959 2209 \nL 2766 2209 \nL 2766 2266 \nQ 2766 2663 2505 2880 \nQ 2244 3097 1772 3097 \nQ 1472 3097 1187 3025 \nQ 903 2953 641 2809 \nL 641 3341 \nQ 956 3463 1253 3523 \nQ 1550 3584 1831 3584 \nQ 2591 3584 2966 3190 \nQ 3341 2797 3341 1997 \nz\n\" id=\"DejaVuSans-61\" transform=\"scale(0.015625)\"/>\n      </defs>\n      <use xlink:href=\"#DejaVuSans-46\"/>\n      <use x=\"50.269531\" xlink:href=\"#DejaVuSans-72\"/>\n      <use x=\"89.132812\" xlink:href=\"#DejaVuSans-6f\"/>\n      <use x=\"150.314453\" xlink:href=\"#DejaVuSans-6e\"/>\n      <use x=\"213.693359\" xlink:href=\"#DejaVuSans-74\"/>\n      <use x=\"252.902344\" xlink:href=\"#DejaVuSans-50\"/>\n      <use x=\"308.705078\" xlink:href=\"#DejaVuSans-61\"/>\n      <use x=\"369.984375\" xlink:href=\"#DejaVuSans-67\"/>\n      <use x=\"433.460938\" xlink:href=\"#DejaVuSans-65\"/>\n     </g>\n    </g>\n   </g>\n   <g id=\"line2d_13\">\n    <path clip-path=\"url(#p22b52adbf8)\" d=\"M 58.999432 71.663409 \nL 65.210935 84.239175 \nL 71.422437 99.127319 \nL 77.63394 115.829083 \nL 83.845443 133.470579 \nL 90.056946 150.958339 \nL 96.268449 167.235985 \nL 102.479951 181.523121 \nL 108.691454 193.431 \nL 114.902957 202.935312 \nL 121.11446 210.262448 \nL 127.325962 215.761425 \nL 133.537465 219.805742 \nL 139.748968 222.736168 \nL 145.960471 224.83662 \nL 152.171974 226.33051 \nL 158.383476 227.387133 \nL 164.594979 228.131557 \nL 170.806482 228.65458 \nL 177.017985 229.021336 \nL 183.229487 229.278164 \nL 189.44099 229.457842 \nL 195.652493 229.583462 \nL 201.863996 229.671246 \nL 208.075499 229.73257 \nL 214.287001 229.7754 \nL 220.498504 229.805309 \nL 226.710007 229.826192 \nL 232.92151 229.840773 \nL 239.133013 229.850952 \nL 245.344515 229.858058 \nL 251.556018 229.863019 \nL 257.767521 229.866482 \nL 263.979024 229.8689 \nL 270.190526 229.870587 \nL 276.402029 229.871765 \nL 282.613532 229.872587 \nL 288.825035 229.873162 \nL 295.036538 229.873562 \nL 301.24804 229.873842 \nL 307.459543 229.874037 \nL 313.671046 229.874174 \nL 319.882549 229.874269 \nL 326.094051 229.874335 \nL 332.305554 229.874381 \nL 338.517057 229.874414 \nL 344.72856 229.874436 \nL 350.940063 229.874452 \nL 357.151565 229.874463 \nL 363.363068 229.874471 \n\" style=\"fill:none;stroke:#000000;stroke-linecap:square;stroke-width:1.5;\"/>\n   </g>\n   <g id=\"patch_3\">\n    <path d=\"M 43.78125 239.758125 \nL 43.78125 22.318125 \n\" style=\"fill:none;stroke:#000000;stroke-linecap:square;stroke-linejoin:miter;stroke-width:0.8;\"/>\n   </g>\n   <g id=\"patch_4\">\n    <path d=\"M 378.58125 239.758125 \nL 378.58125 22.318125 \n\" style=\"fill:none;stroke:#000000;stroke-linecap:square;stroke-linejoin:miter;stroke-width:0.8;\"/>\n   </g>\n   <g id=\"patch_5\">\n    <path d=\"M 43.78125 239.758125 \nL 378.58125 239.758125 \n\" style=\"fill:none;stroke:#000000;stroke-linecap:square;stroke-linejoin:miter;stroke-width:0.8;\"/>\n   </g>\n   <g id=\"patch_6\">\n    <path d=\"M 43.78125 22.318125 \nL 378.58125 22.318125 \n\" style=\"fill:none;stroke:#000000;stroke-linecap:square;stroke-linejoin:miter;stroke-width:0.8;\"/>\n   </g>\n   <g id=\"text_15\">\n    <!-- Age Predicting appearance on Front Page -->\n    <g transform=\"translate(87.32625 16.318125)scale(0.12 -0.12)\">\n     <defs>\n      <path id=\"DejaVuSans-20\" transform=\"scale(0.015625)\"/>\n      <path d=\"M 2906 2969 \nL 2906 4863 \nL 3481 4863 \nL 3481 0 \nL 2906 0 \nL 2906 525 \nQ 2725 213 2448 61 \nQ 2172 -91 1784 -91 \nQ 1150 -91 751 415 \nQ 353 922 353 1747 \nQ 353 2572 751 3078 \nQ 1150 3584 1784 3584 \nQ 2172 3584 2448 3432 \nQ 2725 3281 2906 2969 \nz\nM 947 1747 \nQ 947 1113 1208 752 \nQ 1469 391 1925 391 \nQ 2381 391 2643 752 \nQ 2906 1113 2906 1747 \nQ 2906 2381 2643 2742 \nQ 2381 3103 1925 3103 \nQ 1469 3103 1208 2742 \nQ 947 2381 947 1747 \nz\n\" id=\"DejaVuSans-64\" transform=\"scale(0.015625)\"/>\n      <path d=\"M 603 3500 \nL 1178 3500 \nL 1178 0 \nL 603 0 \nL 603 3500 \nz\nM 603 4863 \nL 1178 4863 \nL 1178 4134 \nL 603 4134 \nL 603 4863 \nz\n\" id=\"DejaVuSans-69\" transform=\"scale(0.015625)\"/>\n      <path d=\"M 3122 3366 \nL 3122 2828 \nQ 2878 2963 2633 3030 \nQ 2388 3097 2138 3097 \nQ 1578 3097 1268 2742 \nQ 959 2388 959 1747 \nQ 959 1106 1268 751 \nQ 1578 397 2138 397 \nQ 2388 397 2633 464 \nQ 2878 531 3122 666 \nL 3122 134 \nQ 2881 22 2623 -34 \nQ 2366 -91 2075 -91 \nQ 1284 -91 818 406 \nQ 353 903 353 1747 \nQ 353 2603 823 3093 \nQ 1294 3584 2113 3584 \nQ 2378 3584 2631 3529 \nQ 2884 3475 3122 3366 \nz\n\" id=\"DejaVuSans-63\" transform=\"scale(0.015625)\"/>\n      <path d=\"M 1159 525 \nL 1159 -1331 \nL 581 -1331 \nL 581 3500 \nL 1159 3500 \nL 1159 2969 \nQ 1341 3281 1617 3432 \nQ 1894 3584 2278 3584 \nQ 2916 3584 3314 3078 \nQ 3713 2572 3713 1747 \nQ 3713 922 3314 415 \nQ 2916 -91 2278 -91 \nQ 1894 -91 1617 61 \nQ 1341 213 1159 525 \nz\nM 3116 1747 \nQ 3116 2381 2855 2742 \nQ 2594 3103 2138 3103 \nQ 1681 3103 1420 2742 \nQ 1159 2381 1159 1747 \nQ 1159 1113 1420 752 \nQ 1681 391 2138 391 \nQ 2594 391 2855 752 \nQ 3116 1113 3116 1747 \nz\n\" id=\"DejaVuSans-70\" transform=\"scale(0.015625)\"/>\n     </defs>\n     <use xlink:href=\"#DejaVuSans-41\"/>\n     <use x=\"68.408203\" xlink:href=\"#DejaVuSans-67\"/>\n     <use x=\"131.884766\" xlink:href=\"#DejaVuSans-65\"/>\n     <use x=\"193.408203\" xlink:href=\"#DejaVuSans-20\"/>\n     <use x=\"225.195312\" xlink:href=\"#DejaVuSans-50\"/>\n     <use x=\"283.748047\" xlink:href=\"#DejaVuSans-72\"/>\n     <use x=\"322.611328\" xlink:href=\"#DejaVuSans-65\"/>\n     <use x=\"384.134766\" xlink:href=\"#DejaVuSans-64\"/>\n     <use x=\"447.611328\" xlink:href=\"#DejaVuSans-69\"/>\n     <use x=\"475.394531\" xlink:href=\"#DejaVuSans-63\"/>\n     <use x=\"530.375\" xlink:href=\"#DejaVuSans-74\"/>\n     <use x=\"569.583984\" xlink:href=\"#DejaVuSans-69\"/>\n     <use x=\"597.367188\" xlink:href=\"#DejaVuSans-6e\"/>\n     <use x=\"660.746094\" xlink:href=\"#DejaVuSans-67\"/>\n     <use x=\"724.222656\" xlink:href=\"#DejaVuSans-20\"/>\n     <use x=\"756.009766\" xlink:href=\"#DejaVuSans-61\"/>\n     <use x=\"817.289062\" xlink:href=\"#DejaVuSans-70\"/>\n     <use x=\"880.765625\" xlink:href=\"#DejaVuSans-70\"/>\n     <use x=\"944.242188\" xlink:href=\"#DejaVuSans-65\"/>\n     <use x=\"1005.765625\" xlink:href=\"#DejaVuSans-61\"/>\n     <use x=\"1067.044922\" xlink:href=\"#DejaVuSans-72\"/>\n     <use x=\"1108.158203\" xlink:href=\"#DejaVuSans-61\"/>\n     <use x=\"1169.4375\" xlink:href=\"#DejaVuSans-6e\"/>\n     <use x=\"1232.816406\" xlink:href=\"#DejaVuSans-63\"/>\n     <use x=\"1287.796875\" xlink:href=\"#DejaVuSans-65\"/>\n     <use x=\"1349.320312\" xlink:href=\"#DejaVuSans-20\"/>\n     <use x=\"1381.107422\" xlink:href=\"#DejaVuSans-6f\"/>\n     <use x=\"1442.289062\" xlink:href=\"#DejaVuSans-6e\"/>\n     <use x=\"1505.667969\" xlink:href=\"#DejaVuSans-20\"/>\n     <use x=\"1537.455078\" xlink:href=\"#DejaVuSans-46\"/>\n     <use x=\"1587.724609\" xlink:href=\"#DejaVuSans-72\"/>\n     <use x=\"1626.587891\" xlink:href=\"#DejaVuSans-6f\"/>\n     <use x=\"1687.769531\" xlink:href=\"#DejaVuSans-6e\"/>\n     <use x=\"1751.148438\" xlink:href=\"#DejaVuSans-74\"/>\n     <use x=\"1790.357422\" xlink:href=\"#DejaVuSans-20\"/>\n     <use x=\"1822.144531\" xlink:href=\"#DejaVuSans-50\"/>\n     <use x=\"1877.947266\" xlink:href=\"#DejaVuSans-61\"/>\n     <use x=\"1939.226562\" xlink:href=\"#DejaVuSans-67\"/>\n     <use x=\"2002.703125\" xlink:href=\"#DejaVuSans-65\"/>\n    </g>\n   </g>\n  </g>\n </g>\n <defs>\n  <clipPath id=\"p22b52adbf8\">\n   <rect height=\"217.44\" width=\"334.8\" x=\"43.78125\" y=\"22.318125\"/>\n  </clipPath>\n </defs>\n</svg>\n",
      "image/png": "[encoded data removed]"
     },
     "metadata": {
      "needs_background": "light"
     }
    }
   ],
   "source": [
    "import matplotlib.pyplot as plt\n",
    "import numpy as np\n",
    "cleanedUpData.plot.scatter(x='Age', y='FrontPage')\n",
    "\n",
    "logistic = lambda x: 1/(1+np.exp(-x))\n",
    "\n",
    "x = np.linspace(cleanedUpData['Age'].min(),cleanedUpData['Age'].max())\n",
    "par = dict(front_Page_made.params)\n",
    "plt.plot(x, logistic(par['Intercept'] + par['Age'] * x), color='Black')\n",
    "plt.title('Age Predicting appearance on Front Page')"
   ]
  },
  {
   "source": [
    "# So From the graph and data it appears that the age of the article is the best at predicting the apperaance on the front page. A combintation of Age and Points made a decient prdiction as well..."
   ],
   "cell_type": "markdown",
   "metadata": {}
  },
  {
   "cell_type": "code",
   "execution_count": null,
   "metadata": {},
   "outputs": [],
   "source": []
  }
 ]
}